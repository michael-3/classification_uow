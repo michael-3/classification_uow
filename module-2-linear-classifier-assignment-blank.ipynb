{
 "cells": [
  {
   "cell_type": "markdown",
   "metadata": {},
   "source": [
    "# Predicting sentiment from product reviews\n",
    "\n",
    "\n",
    "The goal of this first notebook is to explore logistic regression and feature engineering with existing GraphLab functions.\n",
    "\n",
    "In this notebook you will use product review data from Amazon.com to predict whether the sentiments about a product (from its reviews) are positive or negative.\n",
    "\n",
    "* Use SFrames to do some feature engineering\n",
    "* Train a logistic regression model to predict the sentiment of product reviews.\n",
    "* Inspect the weights (coefficients) of a trained logistic regression model.\n",
    "* Make a prediction (both class and probability) of sentiment for a new product review.\n",
    "* Given the logistic regression weights, predictors and ground truth labels, write a function to compute the **accuracy** of the model.\n",
    "* Inspect the coefficients of the logistic regression model and interpret their meanings.\n",
    "* Compare multiple logistic regression models.\n",
    "\n",
    "Let's get started!\n",
    "    \n",
    "## Fire up GraphLab Create"
   ]
  },
  {
   "cell_type": "markdown",
   "metadata": {},
   "source": [
    "Make sure you have the latest version of GraphLab Create."
   ]
  },
  {
   "cell_type": "code",
   "execution_count": 1,
   "metadata": {
    "collapsed": false
   },
   "outputs": [
    {
     "name": "stderr",
     "output_type": "stream",
     "text": [
      "A newer version of GraphLab Create (v1.8.5) is available! Your current version is v1.8.1.\n",
      "\n",
      "You can use pip to upgrade the graphlab-create package. For more information see https://dato.com/products/create/upgrade.\n"
     ]
    }
   ],
   "source": [
    "from __future__ import division\n",
    "import graphlab\n",
    "import math\n",
    "import string\n",
    "import pandas as pd"
   ]
  },
  {
   "cell_type": "markdown",
   "metadata": {},
   "source": [
    "# Data preperation\n",
    "\n",
    "We will use a dataset consisting of baby product reviews on Amazon.com."
   ]
  },
  {
   "cell_type": "code",
   "execution_count": 2,
   "metadata": {
    "collapsed": false
   },
   "outputs": [
    {
     "name": "stderr",
     "output_type": "stream",
     "text": [
      "[INFO] This non-commercial license of GraphLab Create is assigned to thmho@uwaterloo.ca and will expire on February 16, 2017. For commercial licensing options, visit https://dato.com/buy/.\n",
      "\n",
      "[INFO] Start server at: ipc:///tmp/graphlab_server-1900 - Server binary: C:\\Program Files (x86)\\Anaconda\\lib\\site-packages\\graphlab\\unity_server.exe - Server log: C:\\Users\\Michael\\AppData\\Local\\Temp\\graphlab_server_1459115708.log.0\n",
      "[INFO] GraphLab Server Version: 1.8.1\n"
     ]
    }
   ],
   "source": [
    "products = graphlab.SFrame('amazon_baby.gl/amazon_baby.gl/')"
   ]
  },
  {
   "cell_type": "code",
   "execution_count": 6,
   "metadata": {
    "collapsed": true
   },
   "outputs": [],
   "source": [
    "pproducts = products.to_dataframe()"
   ]
  },
  {
   "cell_type": "markdown",
   "metadata": {},
   "source": [
    "Now, let us see a preview of what the dataset looks like."
   ]
  },
  {
   "cell_type": "code",
   "execution_count": 4,
   "metadata": {
    "collapsed": false
   },
   "outputs": [
    {
     "data": {
      "text/html": [
       "<div>\n",
       "<table border=\"1\" class=\"dataframe\">\n",
       "  <thead>\n",
       "    <tr style=\"text-align: right;\">\n",
       "      <th></th>\n",
       "      <th>name</th>\n",
       "      <th>review</th>\n",
       "      <th>rating</th>\n",
       "    </tr>\n",
       "  </thead>\n",
       "  <tbody>\n",
       "    <tr>\n",
       "      <th>0</th>\n",
       "      <td>Planetwise Flannel Wipes</td>\n",
       "      <td>These flannel wipes are OK, but in my opinion ...</td>\n",
       "      <td>3</td>\n",
       "    </tr>\n",
       "    <tr>\n",
       "      <th>1</th>\n",
       "      <td>Planetwise Wipe Pouch</td>\n",
       "      <td>it came early and was not disappointed. i love...</td>\n",
       "      <td>5</td>\n",
       "    </tr>\n",
       "    <tr>\n",
       "      <th>2</th>\n",
       "      <td>Annas Dream Full Quilt with 2 Shams</td>\n",
       "      <td>Very soft and comfortable and warmer than it l...</td>\n",
       "      <td>5</td>\n",
       "    </tr>\n",
       "    <tr>\n",
       "      <th>3</th>\n",
       "      <td>Stop Pacifier Sucking without tears with Thumb...</td>\n",
       "      <td>This is a product well worth the purchase.  I ...</td>\n",
       "      <td>5</td>\n",
       "    </tr>\n",
       "    <tr>\n",
       "      <th>4</th>\n",
       "      <td>Stop Pacifier Sucking without tears with Thumb...</td>\n",
       "      <td>All of my kids have cried non-stop when I trie...</td>\n",
       "      <td>5</td>\n",
       "    </tr>\n",
       "    <tr>\n",
       "      <th>5</th>\n",
       "      <td>Stop Pacifier Sucking without tears with Thumb...</td>\n",
       "      <td>When the Binky Fairy came to our house, we did...</td>\n",
       "      <td>5</td>\n",
       "    </tr>\n",
       "    <tr>\n",
       "      <th>6</th>\n",
       "      <td>A Tale of Baby's Days with Peter Rabbit</td>\n",
       "      <td>Lovely book, it's bound tightly so you may not...</td>\n",
       "      <td>4</td>\n",
       "    </tr>\n",
       "    <tr>\n",
       "      <th>7</th>\n",
       "      <td>Baby Tracker&amp;reg; - Daily Childcare Journal, S...</td>\n",
       "      <td>Perfect for new parents. We were able to keep ...</td>\n",
       "      <td>5</td>\n",
       "    </tr>\n",
       "    <tr>\n",
       "      <th>8</th>\n",
       "      <td>Baby Tracker&amp;reg; - Daily Childcare Journal, S...</td>\n",
       "      <td>A friend of mine pinned this product on Pinter...</td>\n",
       "      <td>5</td>\n",
       "    </tr>\n",
       "    <tr>\n",
       "      <th>9</th>\n",
       "      <td>Baby Tracker&amp;reg; - Daily Childcare Journal, S...</td>\n",
       "      <td>This has been an easy way for my nanny to reco...</td>\n",
       "      <td>4</td>\n",
       "    </tr>\n",
       "    <tr>\n",
       "      <th>10</th>\n",
       "      <td>Baby Tracker&amp;reg; - Daily Childcare Journal, S...</td>\n",
       "      <td>I love this journal and our nanny uses it ever...</td>\n",
       "      <td>4</td>\n",
       "    </tr>\n",
       "    <tr>\n",
       "      <th>11</th>\n",
       "      <td>Baby Tracker&amp;reg; - Daily Childcare Journal, S...</td>\n",
       "      <td>This book is perfect!  I'm a first time new mo...</td>\n",
       "      <td>5</td>\n",
       "    </tr>\n",
       "    <tr>\n",
       "      <th>12</th>\n",
       "      <td>Baby Tracker&amp;reg; - Daily Childcare Journal, S...</td>\n",
       "      <td>I originally just gave the nanny a pad of pape...</td>\n",
       "      <td>4</td>\n",
       "    </tr>\n",
       "    <tr>\n",
       "      <th>13</th>\n",
       "      <td>Baby Tracker&amp;reg; - Daily Childcare Journal, S...</td>\n",
       "      <td>I thought keeping a simple handwritten journal...</td>\n",
       "      <td>3</td>\n",
       "    </tr>\n",
       "    <tr>\n",
       "      <th>14</th>\n",
       "      <td>Nature's Lullabies First Year Sticker Calendar</td>\n",
       "      <td>Space for monthly photos, info and a lot of us...</td>\n",
       "      <td>5</td>\n",
       "    </tr>\n",
       "    <tr>\n",
       "      <th>15</th>\n",
       "      <td>Nature's Lullabies First Year Sticker Calendar</td>\n",
       "      <td>I bought this calender for myself for my secon...</td>\n",
       "      <td>4</td>\n",
       "    </tr>\n",
       "    <tr>\n",
       "      <th>16</th>\n",
       "      <td>Nature's Lullabies First Year Sticker Calendar</td>\n",
       "      <td>I love this little calender, you can keep trac...</td>\n",
       "      <td>5</td>\n",
       "    </tr>\n",
       "    <tr>\n",
       "      <th>17</th>\n",
       "      <td>Nature's Lullabies Second Year Sticker Calendar</td>\n",
       "      <td>This was the only calender I could find for th...</td>\n",
       "      <td>5</td>\n",
       "    </tr>\n",
       "    <tr>\n",
       "      <th>18</th>\n",
       "      <td>Nature's Lullabies Second Year Sticker Calendar</td>\n",
       "      <td>I completed a calendar for my son's first year...</td>\n",
       "      <td>4</td>\n",
       "    </tr>\n",
       "    <tr>\n",
       "      <th>19</th>\n",
       "      <td>Nature's Lullabies Second Year Sticker Calendar</td>\n",
       "      <td>We wanted to get something to keep track of ou...</td>\n",
       "      <td>5</td>\n",
       "    </tr>\n",
       "    <tr>\n",
       "      <th>20</th>\n",
       "      <td>Nature's Lullabies Second Year Sticker Calendar</td>\n",
       "      <td>I had a hard time finding a second year calend...</td>\n",
       "      <td>5</td>\n",
       "    </tr>\n",
       "    <tr>\n",
       "      <th>21</th>\n",
       "      <td>Nature's Lullabies Second Year Sticker Calendar</td>\n",
       "      <td>I only purchased a second-year calendar for my...</td>\n",
       "      <td>2</td>\n",
       "    </tr>\n",
       "    <tr>\n",
       "      <th>22</th>\n",
       "      <td>Nature's Lullabies Second Year Sticker Calendar</td>\n",
       "      <td>I LOVE this calendar for recording events of m...</td>\n",
       "      <td>5</td>\n",
       "    </tr>\n",
       "    <tr>\n",
       "      <th>23</th>\n",
       "      <td>Nature's Lullabies Second Year Sticker Calendar</td>\n",
       "      <td>Calendar is exactly as described, but I find t...</td>\n",
       "      <td>3</td>\n",
       "    </tr>\n",
       "    <tr>\n",
       "      <th>24</th>\n",
       "      <td>Nature's Lullabies Second Year Sticker Calendar</td>\n",
       "      <td>Wife loves this calender. Comes with a lot of ...</td>\n",
       "      <td>5</td>\n",
       "    </tr>\n",
       "    <tr>\n",
       "      <th>25</th>\n",
       "      <td>Nature's Lullabies Second Year Sticker Calendar</td>\n",
       "      <td>My daughter had her 1st baby over a year ago. ...</td>\n",
       "      <td>5</td>\n",
       "    </tr>\n",
       "    <tr>\n",
       "      <th>26</th>\n",
       "      <td>Baby's First Journal - Green</td>\n",
       "      <td>Extremely useful! As a new mom, tired and inex...</td>\n",
       "      <td>5</td>\n",
       "    </tr>\n",
       "    <tr>\n",
       "      <th>27</th>\n",
       "      <td>Lamaze Peekaboo, I Love You</td>\n",
       "      <td>My son loves peek a boo at this age of 9 month...</td>\n",
       "      <td>3</td>\n",
       "    </tr>\n",
       "    <tr>\n",
       "      <th>28</th>\n",
       "      <td>Lamaze Peekaboo, I Love You</td>\n",
       "      <td>One of baby's first and favorite books, and it...</td>\n",
       "      <td>4</td>\n",
       "    </tr>\n",
       "    <tr>\n",
       "      <th>29</th>\n",
       "      <td>Lamaze Peekaboo, I Love You</td>\n",
       "      <td>I like how the book has a hook to attach it to...</td>\n",
       "      <td>5</td>\n",
       "    </tr>\n",
       "    <tr>\n",
       "      <th>...</th>\n",
       "      <td>...</td>\n",
       "      <td>...</td>\n",
       "      <td>...</td>\n",
       "    </tr>\n",
       "    <tr>\n",
       "      <th>183501</th>\n",
       "      <td>Maxboost iPhone 5S/5 Case - Protective Snap-on...</td>\n",
       "      <td>I received a free sample from VIPU program for...</td>\n",
       "      <td>5</td>\n",
       "    </tr>\n",
       "    <tr>\n",
       "      <th>183502</th>\n",
       "      <td>Maxboost iPhone 5S/5 Case - Protective Snap-on...</td>\n",
       "      <td>It got here incredibly fast &amp; it is a nice dur...</td>\n",
       "      <td>5</td>\n",
       "    </tr>\n",
       "    <tr>\n",
       "      <th>183503</th>\n",
       "      <td>Maxboost iPhone 5S/5 Case - Protective Snap-on...</td>\n",
       "      <td>I got this case in the mail today, it came on ...</td>\n",
       "      <td>2</td>\n",
       "    </tr>\n",
       "    <tr>\n",
       "      <th>183504</th>\n",
       "      <td>Maxboost iPhone 5S/5 Case - Protective Snap-on...</td>\n",
       "      <td>Free caseLove it... The color was great firm h...</td>\n",
       "      <td>5</td>\n",
       "    </tr>\n",
       "    <tr>\n",
       "      <th>183505</th>\n",
       "      <td>Maxboost iPhone 5S/5 Case - Protective Snap-on...</td>\n",
       "      <td>I received a free sample from VIPU program for...</td>\n",
       "      <td>5</td>\n",
       "    </tr>\n",
       "    <tr>\n",
       "      <th>183506</th>\n",
       "      <td>Maxboost iPhone 5S/5 Case - Protective Snap-on...</td>\n",
       "      <td>This case definitely isn't cheap. It feels ver...</td>\n",
       "      <td>5</td>\n",
       "    </tr>\n",
       "    <tr>\n",
       "      <th>183507</th>\n",
       "      <td>Maxboost iPhone 5S/5 Case - Protective Snap-on...</td>\n",
       "      <td>got this for my wife and she loves it would de...</td>\n",
       "      <td>5</td>\n",
       "    </tr>\n",
       "    <tr>\n",
       "      <th>183508</th>\n",
       "      <td>Maxboost iPhone 5S/5 Case - Protective Snap-on...</td>\n",
       "      <td>love this case. It fit perfectly and the color...</td>\n",
       "      <td>5</td>\n",
       "    </tr>\n",
       "    <tr>\n",
       "      <th>183509</th>\n",
       "      <td>Maxboost iPhone 5S/5 Case - Protective Snap-on...</td>\n",
       "      <td>this case is the greatest very cool and stylis...</td>\n",
       "      <td>5</td>\n",
       "    </tr>\n",
       "    <tr>\n",
       "      <th>183510</th>\n",
       "      <td>Maxboost iPhone 5S/5 Case - Protective Snap-on...</td>\n",
       "      <td>Great fit. Really love how red it is.</td>\n",
       "      <td>5</td>\n",
       "    </tr>\n",
       "    <tr>\n",
       "      <th>183511</th>\n",
       "      <td>Maxboost iPhone 5S/5 Case - Protective Snap-on...</td>\n",
       "      <td>I received a free sample from VIPU program for...</td>\n",
       "      <td>3</td>\n",
       "    </tr>\n",
       "    <tr>\n",
       "      <th>183512</th>\n",
       "      <td>Maxboost iPhone 5S/5 Case - Protective Snap-on...</td>\n",
       "      <td>*I received a free sample from VIPU program fo...</td>\n",
       "      <td>5</td>\n",
       "    </tr>\n",
       "    <tr>\n",
       "      <th>183513</th>\n",
       "      <td>Maxboost iPhone 5S/5 Case - Protective Snap-on...</td>\n",
       "      <td>I was a very surprised by the quality of this ...</td>\n",
       "      <td>5</td>\n",
       "    </tr>\n",
       "    <tr>\n",
       "      <th>183514</th>\n",
       "      <td>Maxboost iPhone 5S/5 Case - Protective Snap-on...</td>\n",
       "      <td>I received a free sample from VIPU program for...</td>\n",
       "      <td>4</td>\n",
       "    </tr>\n",
       "    <tr>\n",
       "      <th>183515</th>\n",
       "      <td>Maxboost iPhone 5S/5 Case - Protective Snap-on...</td>\n",
       "      <td>I love this phone case!  My  iPhone is always ...</td>\n",
       "      <td>5</td>\n",
       "    </tr>\n",
       "    <tr>\n",
       "      <th>183516</th>\n",
       "      <td>BoogieBulb&amp;reg; - The First True Cleanable &amp;am...</td>\n",
       "      <td>I've ordered a ton of &amp;#34;suckers&amp;#34; to try...</td>\n",
       "      <td>3</td>\n",
       "    </tr>\n",
       "    <tr>\n",
       "      <th>183517</th>\n",
       "      <td>Baby Mucus Extractor, Nasal Aspirator From Dr....</td>\n",
       "      <td>I recieved this product free of charge and abs...</td>\n",
       "      <td>5</td>\n",
       "    </tr>\n",
       "    <tr>\n",
       "      <th>183518</th>\n",
       "      <td>Baby Mucus Extractor, Nasal Aspirator From Dr....</td>\n",
       "      <td>The tube is soft and easy to use, and the tip ...</td>\n",
       "      <td>5</td>\n",
       "    </tr>\n",
       "    <tr>\n",
       "      <th>183519</th>\n",
       "      <td>Baby Mucus Extractor, Nasal Aspirator From Dr....</td>\n",
       "      <td>I love this so much. It works way better than ...</td>\n",
       "      <td>5</td>\n",
       "    </tr>\n",
       "    <tr>\n",
       "      <th>183520</th>\n",
       "      <td>Baby Mucus Extractor, Nasal Aspirator From Dr....</td>\n",
       "      <td>The aspirator works well but needs to come wit...</td>\n",
       "      <td>4</td>\n",
       "    </tr>\n",
       "    <tr>\n",
       "      <th>183521</th>\n",
       "      <td>Airline Seat Belt Extender - The Best Extensio...</td>\n",
       "      <td>Up until recently I have hated flying, putting...</td>\n",
       "      <td>5</td>\n",
       "    </tr>\n",
       "    <tr>\n",
       "      <th>183522</th>\n",
       "      <td>Airline Seat Belt Extender - The Best Extensio...</td>\n",
       "      <td>I bought this as a father's day gift for my da...</td>\n",
       "      <td>5</td>\n",
       "    </tr>\n",
       "    <tr>\n",
       "      <th>183523</th>\n",
       "      <td>Squeasy Snacker 6oz Silicone Reusable Food Pou...</td>\n",
       "      <td>I love that these can hold purees OR liquids, ...</td>\n",
       "      <td>5</td>\n",
       "    </tr>\n",
       "    <tr>\n",
       "      <th>183524</th>\n",
       "      <td>Squeasy Snacker 6oz Silicone Reusable Food Pou...</td>\n",
       "      <td>I love this product, it makes my life easier. ...</td>\n",
       "      <td>5</td>\n",
       "    </tr>\n",
       "    <tr>\n",
       "      <th>183525</th>\n",
       "      <td>Squeasy Snacker 6oz Silicone Reusable Food Pou...</td>\n",
       "      <td>This reusable squeeze bottle is the best I hav...</td>\n",
       "      <td>5</td>\n",
       "    </tr>\n",
       "    <tr>\n",
       "      <th>183526</th>\n",
       "      <td>Baby Teething Necklace for Mom Pretty Donut Sh...</td>\n",
       "      <td>Such a great idea! very handy to have and look...</td>\n",
       "      <td>5</td>\n",
       "    </tr>\n",
       "    <tr>\n",
       "      <th>183527</th>\n",
       "      <td>Baby Teething Necklace for Mom Pretty Donut Sh...</td>\n",
       "      <td>This product rocks!  It is a great blend of fu...</td>\n",
       "      <td>5</td>\n",
       "    </tr>\n",
       "    <tr>\n",
       "      <th>183528</th>\n",
       "      <td>Abstract 2 PK Baby / Toddler Training Cup (Pink)</td>\n",
       "      <td>This item looks great and cool for my kids.......</td>\n",
       "      <td>5</td>\n",
       "    </tr>\n",
       "    <tr>\n",
       "      <th>183529</th>\n",
       "      <td>Baby Food Freezer Tray - Bacteria Resistant, B...</td>\n",
       "      <td>I am extremely happy with this product. I have...</td>\n",
       "      <td>5</td>\n",
       "    </tr>\n",
       "    <tr>\n",
       "      <th>183530</th>\n",
       "      <td>Best 2 Pack Baby Car Shade for Kids - Window S...</td>\n",
       "      <td>I love this product very mush . I have bought ...</td>\n",
       "      <td>5</td>\n",
       "    </tr>\n",
       "  </tbody>\n",
       "</table>\n",
       "<p>183531 rows × 3 columns</p>\n",
       "</div>"
      ],
      "text/plain": [
       "                                                     name  \\\n",
       "0                                Planetwise Flannel Wipes   \n",
       "1                                   Planetwise Wipe Pouch   \n",
       "2                     Annas Dream Full Quilt with 2 Shams   \n",
       "3       Stop Pacifier Sucking without tears with Thumb...   \n",
       "4       Stop Pacifier Sucking without tears with Thumb...   \n",
       "5       Stop Pacifier Sucking without tears with Thumb...   \n",
       "6                 A Tale of Baby's Days with Peter Rabbit   \n",
       "7       Baby Tracker&reg; - Daily Childcare Journal, S...   \n",
       "8       Baby Tracker&reg; - Daily Childcare Journal, S...   \n",
       "9       Baby Tracker&reg; - Daily Childcare Journal, S...   \n",
       "10      Baby Tracker&reg; - Daily Childcare Journal, S...   \n",
       "11      Baby Tracker&reg; - Daily Childcare Journal, S...   \n",
       "12      Baby Tracker&reg; - Daily Childcare Journal, S...   \n",
       "13      Baby Tracker&reg; - Daily Childcare Journal, S...   \n",
       "14         Nature's Lullabies First Year Sticker Calendar   \n",
       "15         Nature's Lullabies First Year Sticker Calendar   \n",
       "16         Nature's Lullabies First Year Sticker Calendar   \n",
       "17        Nature's Lullabies Second Year Sticker Calendar   \n",
       "18        Nature's Lullabies Second Year Sticker Calendar   \n",
       "19        Nature's Lullabies Second Year Sticker Calendar   \n",
       "20        Nature's Lullabies Second Year Sticker Calendar   \n",
       "21        Nature's Lullabies Second Year Sticker Calendar   \n",
       "22        Nature's Lullabies Second Year Sticker Calendar   \n",
       "23        Nature's Lullabies Second Year Sticker Calendar   \n",
       "24        Nature's Lullabies Second Year Sticker Calendar   \n",
       "25        Nature's Lullabies Second Year Sticker Calendar   \n",
       "26                           Baby's First Journal - Green   \n",
       "27                            Lamaze Peekaboo, I Love You   \n",
       "28                            Lamaze Peekaboo, I Love You   \n",
       "29                            Lamaze Peekaboo, I Love You   \n",
       "...                                                   ...   \n",
       "183501  Maxboost iPhone 5S/5 Case - Protective Snap-on...   \n",
       "183502  Maxboost iPhone 5S/5 Case - Protective Snap-on...   \n",
       "183503  Maxboost iPhone 5S/5 Case - Protective Snap-on...   \n",
       "183504  Maxboost iPhone 5S/5 Case - Protective Snap-on...   \n",
       "183505  Maxboost iPhone 5S/5 Case - Protective Snap-on...   \n",
       "183506  Maxboost iPhone 5S/5 Case - Protective Snap-on...   \n",
       "183507  Maxboost iPhone 5S/5 Case - Protective Snap-on...   \n",
       "183508  Maxboost iPhone 5S/5 Case - Protective Snap-on...   \n",
       "183509  Maxboost iPhone 5S/5 Case - Protective Snap-on...   \n",
       "183510  Maxboost iPhone 5S/5 Case - Protective Snap-on...   \n",
       "183511  Maxboost iPhone 5S/5 Case - Protective Snap-on...   \n",
       "183512  Maxboost iPhone 5S/5 Case - Protective Snap-on...   \n",
       "183513  Maxboost iPhone 5S/5 Case - Protective Snap-on...   \n",
       "183514  Maxboost iPhone 5S/5 Case - Protective Snap-on...   \n",
       "183515  Maxboost iPhone 5S/5 Case - Protective Snap-on...   \n",
       "183516  BoogieBulb&reg; - The First True Cleanable &am...   \n",
       "183517  Baby Mucus Extractor, Nasal Aspirator From Dr....   \n",
       "183518  Baby Mucus Extractor, Nasal Aspirator From Dr....   \n",
       "183519  Baby Mucus Extractor, Nasal Aspirator From Dr....   \n",
       "183520  Baby Mucus Extractor, Nasal Aspirator From Dr....   \n",
       "183521  Airline Seat Belt Extender - The Best Extensio...   \n",
       "183522  Airline Seat Belt Extender - The Best Extensio...   \n",
       "183523  Squeasy Snacker 6oz Silicone Reusable Food Pou...   \n",
       "183524  Squeasy Snacker 6oz Silicone Reusable Food Pou...   \n",
       "183525  Squeasy Snacker 6oz Silicone Reusable Food Pou...   \n",
       "183526  Baby Teething Necklace for Mom Pretty Donut Sh...   \n",
       "183527  Baby Teething Necklace for Mom Pretty Donut Sh...   \n",
       "183528   Abstract 2 PK Baby / Toddler Training Cup (Pink)   \n",
       "183529  Baby Food Freezer Tray - Bacteria Resistant, B...   \n",
       "183530  Best 2 Pack Baby Car Shade for Kids - Window S...   \n",
       "\n",
       "                                                   review  rating  \n",
       "0       These flannel wipes are OK, but in my opinion ...       3  \n",
       "1       it came early and was not disappointed. i love...       5  \n",
       "2       Very soft and comfortable and warmer than it l...       5  \n",
       "3       This is a product well worth the purchase.  I ...       5  \n",
       "4       All of my kids have cried non-stop when I trie...       5  \n",
       "5       When the Binky Fairy came to our house, we did...       5  \n",
       "6       Lovely book, it's bound tightly so you may not...       4  \n",
       "7       Perfect for new parents. We were able to keep ...       5  \n",
       "8       A friend of mine pinned this product on Pinter...       5  \n",
       "9       This has been an easy way for my nanny to reco...       4  \n",
       "10      I love this journal and our nanny uses it ever...       4  \n",
       "11      This book is perfect!  I'm a first time new mo...       5  \n",
       "12      I originally just gave the nanny a pad of pape...       4  \n",
       "13      I thought keeping a simple handwritten journal...       3  \n",
       "14      Space for monthly photos, info and a lot of us...       5  \n",
       "15      I bought this calender for myself for my secon...       4  \n",
       "16      I love this little calender, you can keep trac...       5  \n",
       "17      This was the only calender I could find for th...       5  \n",
       "18      I completed a calendar for my son's first year...       4  \n",
       "19      We wanted to get something to keep track of ou...       5  \n",
       "20      I had a hard time finding a second year calend...       5  \n",
       "21      I only purchased a second-year calendar for my...       2  \n",
       "22      I LOVE this calendar for recording events of m...       5  \n",
       "23      Calendar is exactly as described, but I find t...       3  \n",
       "24      Wife loves this calender. Comes with a lot of ...       5  \n",
       "25      My daughter had her 1st baby over a year ago. ...       5  \n",
       "26      Extremely useful! As a new mom, tired and inex...       5  \n",
       "27      My son loves peek a boo at this age of 9 month...       3  \n",
       "28      One of baby's first and favorite books, and it...       4  \n",
       "29      I like how the book has a hook to attach it to...       5  \n",
       "...                                                   ...     ...  \n",
       "183501  I received a free sample from VIPU program for...       5  \n",
       "183502  It got here incredibly fast & it is a nice dur...       5  \n",
       "183503  I got this case in the mail today, it came on ...       2  \n",
       "183504  Free caseLove it... The color was great firm h...       5  \n",
       "183505  I received a free sample from VIPU program for...       5  \n",
       "183506  This case definitely isn't cheap. It feels ver...       5  \n",
       "183507  got this for my wife and she loves it would de...       5  \n",
       "183508  love this case. It fit perfectly and the color...       5  \n",
       "183509  this case is the greatest very cool and stylis...       5  \n",
       "183510              Great fit. Really love how red it is.       5  \n",
       "183511  I received a free sample from VIPU program for...       3  \n",
       "183512  *I received a free sample from VIPU program fo...       5  \n",
       "183513  I was a very surprised by the quality of this ...       5  \n",
       "183514  I received a free sample from VIPU program for...       4  \n",
       "183515  I love this phone case!  My  iPhone is always ...       5  \n",
       "183516  I've ordered a ton of &#34;suckers&#34; to try...       3  \n",
       "183517  I recieved this product free of charge and abs...       5  \n",
       "183518  The tube is soft and easy to use, and the tip ...       5  \n",
       "183519  I love this so much. It works way better than ...       5  \n",
       "183520  The aspirator works well but needs to come wit...       4  \n",
       "183521  Up until recently I have hated flying, putting...       5  \n",
       "183522  I bought this as a father's day gift for my da...       5  \n",
       "183523  I love that these can hold purees OR liquids, ...       5  \n",
       "183524  I love this product, it makes my life easier. ...       5  \n",
       "183525  This reusable squeeze bottle is the best I hav...       5  \n",
       "183526  Such a great idea! very handy to have and look...       5  \n",
       "183527  This product rocks!  It is a great blend of fu...       5  \n",
       "183528  This item looks great and cool for my kids.......       5  \n",
       "183529  I am extremely happy with this product. I have...       5  \n",
       "183530  I love this product very mush . I have bought ...       5  \n",
       "\n",
       "[183531 rows x 3 columns]"
      ]
     },
     "execution_count": 4,
     "metadata": {},
     "output_type": "execute_result"
    }
   ],
   "source": [
    "pproducts"
   ]
  },
  {
   "cell_type": "markdown",
   "metadata": {},
   "source": [
    "## Build the word count vector for each review"
   ]
  },
  {
   "cell_type": "markdown",
   "metadata": {},
   "source": [
    "Let us explore a specific example of a baby product.\n"
   ]
  },
  {
   "cell_type": "code",
   "execution_count": 5,
   "metadata": {
    "collapsed": false
   },
   "outputs": [
    {
     "name": "stdout",
     "output_type": "stream",
     "text": [
      "name      The First Years Massaging Action Teether\n",
      "review                    A favorite in our house!\n",
      "rating                                           5\n",
      "Name: 269, dtype: object\n"
     ]
    }
   ],
   "source": [
    "print pproducts.loc[269,:]"
   ]
  },
  {
   "cell_type": "markdown",
   "metadata": {},
   "source": [
    "Now, we will perform 2 simple data transformations:\n",
    "\n",
    "1. Remove punctuation using [Python's built-in](https://docs.python.org/2/library/string.html) string functionality.\n",
    "2. Transform the reviews into word-counts.\n",
    "\n",
    "**Aside**. In this notebook, we remove all punctuations for the sake of simplicity. A smarter approach to punctuations would preserve phrases such as \"I'd\", \"would've\", \"hadn't\" and so forth. See [this page](https://www.cis.upenn.edu/~treebank/tokenization.html) for an example of smart handling of punctuations."
   ]
  },
  {
   "cell_type": "code",
   "execution_count": 3,
   "metadata": {
    "collapsed": false
   },
   "outputs": [],
   "source": [
    "def remove_punctuation(text):\n",
    "    return text.translate(None, string.punctuation) "
   ]
  },
  {
   "cell_type": "code",
   "execution_count": 7,
   "metadata": {
    "collapsed": false
   },
   "outputs": [],
   "source": [
    "pproducts = pproducts.fillna({'review':''})\n",
    "pproducts['review_clean'] = pproducts['review'].apply(remove_punctuation)\n",
    "\n"
   ]
  },
  {
   "cell_type": "markdown",
   "metadata": {},
   "source": [
    "Now, let us explore what the sample example above looks like after these 2 transformations. Here, each entry in the **word_count** column is a dictionary where the key is the word and the value is a count of the number of times the word occurs."
   ]
  },
  {
   "cell_type": "code",
   "execution_count": 8,
   "metadata": {
    "collapsed": false
   },
   "outputs": [
    {
     "name": "stdout",
     "output_type": "stream",
     "text": [
      "My 8 month toddler enjoys this book Very good idea with mindstimulating activities on each page Well worth it for the price\n",
      "['my', '8', 'month', 'toddler', 'enjoys', 'this', 'book', 'very', 'good', 'idea', 'with', 'mindstimulating', 'activities', 'on', 'each', 'page', 'well', 'worth', 'it', 'for', 'the', 'price']\n"
     ]
    },
    {
     "data": {
      "text/plain": [
       "Counter({'8': 1,\n",
       "         'My': 1,\n",
       "         'Very': 1,\n",
       "         'Well': 1,\n",
       "         'activities': 1,\n",
       "         'book': 1,\n",
       "         'each': 1,\n",
       "         'enjoys': 1,\n",
       "         'for': 1,\n",
       "         'good': 1,\n",
       "         'idea': 1,\n",
       "         'it': 1,\n",
       "         'mindstimulating': 1,\n",
       "         'month': 1,\n",
       "         'on': 1,\n",
       "         'page': 1,\n",
       "         'price': 1,\n",
       "         'the': 1,\n",
       "         'this': 1,\n",
       "         'toddler': 1,\n",
       "         'with': 1,\n",
       "         'worth': 1})"
      ]
     },
     "execution_count": 8,
     "metadata": {},
     "output_type": "execute_result"
    }
   ],
   "source": [
    "from collections import Counter\n",
    "ex = pproducts.iloc[205]['review_clean']\n",
    "print ex\n",
    "print ex.lower().split()\n",
    "cnt = Counter()\n",
    "for word in ex.split():\n",
    "    cnt[word]+=1\n",
    "cnt"
   ]
  },
  {
   "cell_type": "markdown",
   "metadata": {},
   "source": [
    "## Extract sentiments\n",
    "\n",
    "We will **ignore** all reviews with *rating = 3*, since they tend to have a neutral sentiment."
   ]
  },
  {
   "cell_type": "code",
   "execution_count": 8,
   "metadata": {
    "collapsed": false
   },
   "outputs": [
    {
     "data": {
      "text/plain": [
       "166752"
      ]
     },
     "execution_count": 8,
     "metadata": {},
     "output_type": "execute_result"
    }
   ],
   "source": [
    "pproducts = pproducts[pproducts['rating'] != 3]\n",
    "len(pproducts)"
   ]
  },
  {
   "cell_type": "markdown",
   "metadata": {},
   "source": [
    "Now, we will assign reviews with a rating of 4 or higher to be *positive* reviews, while the ones with rating of 2 or lower are *negative*. For the sentiment column, we use +1 for the positive class label and -1 for the negative class label."
   ]
  },
  {
   "cell_type": "code",
   "execution_count": 10,
   "metadata": {
    "collapsed": false
   },
   "outputs": [
    {
     "data": {
      "text/html": [
       "<div>\n",
       "<table border=\"1\" class=\"dataframe\">\n",
       "  <thead>\n",
       "    <tr style=\"text-align: right;\">\n",
       "      <th></th>\n",
       "      <th>name</th>\n",
       "      <th>review</th>\n",
       "      <th>rating</th>\n",
       "      <th>review_clean</th>\n",
       "      <th>sentiment</th>\n",
       "    </tr>\n",
       "  </thead>\n",
       "  <tbody>\n",
       "    <tr>\n",
       "      <th>1</th>\n",
       "      <td>Planetwise Wipe Pouch</td>\n",
       "      <td>it came early and was not disappointed. i love...</td>\n",
       "      <td>5</td>\n",
       "      <td>it came early and was not disappointed i love ...</td>\n",
       "      <td>1</td>\n",
       "    </tr>\n",
       "    <tr>\n",
       "      <th>2</th>\n",
       "      <td>Annas Dream Full Quilt with 2 Shams</td>\n",
       "      <td>Very soft and comfortable and warmer than it l...</td>\n",
       "      <td>5</td>\n",
       "      <td>Very soft and comfortable and warmer than it l...</td>\n",
       "      <td>1</td>\n",
       "    </tr>\n",
       "    <tr>\n",
       "      <th>3</th>\n",
       "      <td>Stop Pacifier Sucking without tears with Thumb...</td>\n",
       "      <td>This is a product well worth the purchase.  I ...</td>\n",
       "      <td>5</td>\n",
       "      <td>This is a product well worth the purchase  I h...</td>\n",
       "      <td>1</td>\n",
       "    </tr>\n",
       "    <tr>\n",
       "      <th>4</th>\n",
       "      <td>Stop Pacifier Sucking without tears with Thumb...</td>\n",
       "      <td>All of my kids have cried non-stop when I trie...</td>\n",
       "      <td>5</td>\n",
       "      <td>All of my kids have cried nonstop when I tried...</td>\n",
       "      <td>1</td>\n",
       "    </tr>\n",
       "    <tr>\n",
       "      <th>5</th>\n",
       "      <td>Stop Pacifier Sucking without tears with Thumb...</td>\n",
       "      <td>When the Binky Fairy came to our house, we did...</td>\n",
       "      <td>5</td>\n",
       "      <td>When the Binky Fairy came to our house we didn...</td>\n",
       "      <td>1</td>\n",
       "    </tr>\n",
       "    <tr>\n",
       "      <th>6</th>\n",
       "      <td>A Tale of Baby's Days with Peter Rabbit</td>\n",
       "      <td>Lovely book, it's bound tightly so you may not...</td>\n",
       "      <td>4</td>\n",
       "      <td>Lovely book its bound tightly so you may not b...</td>\n",
       "      <td>1</td>\n",
       "    </tr>\n",
       "    <tr>\n",
       "      <th>7</th>\n",
       "      <td>Baby Tracker&amp;reg; - Daily Childcare Journal, S...</td>\n",
       "      <td>Perfect for new parents. We were able to keep ...</td>\n",
       "      <td>5</td>\n",
       "      <td>Perfect for new parents We were able to keep t...</td>\n",
       "      <td>1</td>\n",
       "    </tr>\n",
       "    <tr>\n",
       "      <th>8</th>\n",
       "      <td>Baby Tracker&amp;reg; - Daily Childcare Journal, S...</td>\n",
       "      <td>A friend of mine pinned this product on Pinter...</td>\n",
       "      <td>5</td>\n",
       "      <td>A friend of mine pinned this product on Pinter...</td>\n",
       "      <td>1</td>\n",
       "    </tr>\n",
       "    <tr>\n",
       "      <th>9</th>\n",
       "      <td>Baby Tracker&amp;reg; - Daily Childcare Journal, S...</td>\n",
       "      <td>This has been an easy way for my nanny to reco...</td>\n",
       "      <td>4</td>\n",
       "      <td>This has been an easy way for my nanny to reco...</td>\n",
       "      <td>1</td>\n",
       "    </tr>\n",
       "    <tr>\n",
       "      <th>10</th>\n",
       "      <td>Baby Tracker&amp;reg; - Daily Childcare Journal, S...</td>\n",
       "      <td>I love this journal and our nanny uses it ever...</td>\n",
       "      <td>4</td>\n",
       "      <td>I love this journal and our nanny uses it ever...</td>\n",
       "      <td>1</td>\n",
       "    </tr>\n",
       "    <tr>\n",
       "      <th>11</th>\n",
       "      <td>Baby Tracker&amp;reg; - Daily Childcare Journal, S...</td>\n",
       "      <td>This book is perfect!  I'm a first time new mo...</td>\n",
       "      <td>5</td>\n",
       "      <td>This book is perfect  Im a first time new mom ...</td>\n",
       "      <td>1</td>\n",
       "    </tr>\n",
       "    <tr>\n",
       "      <th>12</th>\n",
       "      <td>Baby Tracker&amp;reg; - Daily Childcare Journal, S...</td>\n",
       "      <td>I originally just gave the nanny a pad of pape...</td>\n",
       "      <td>4</td>\n",
       "      <td>I originally just gave the nanny a pad of pape...</td>\n",
       "      <td>1</td>\n",
       "    </tr>\n",
       "    <tr>\n",
       "      <th>14</th>\n",
       "      <td>Nature's Lullabies First Year Sticker Calendar</td>\n",
       "      <td>Space for monthly photos, info and a lot of us...</td>\n",
       "      <td>5</td>\n",
       "      <td>Space for monthly photos info and a lot of use...</td>\n",
       "      <td>1</td>\n",
       "    </tr>\n",
       "    <tr>\n",
       "      <th>15</th>\n",
       "      <td>Nature's Lullabies First Year Sticker Calendar</td>\n",
       "      <td>I bought this calender for myself for my secon...</td>\n",
       "      <td>4</td>\n",
       "      <td>I bought this calender for myself for my secon...</td>\n",
       "      <td>1</td>\n",
       "    </tr>\n",
       "    <tr>\n",
       "      <th>16</th>\n",
       "      <td>Nature's Lullabies First Year Sticker Calendar</td>\n",
       "      <td>I love this little calender, you can keep trac...</td>\n",
       "      <td>5</td>\n",
       "      <td>I love this little calender you can keep track...</td>\n",
       "      <td>1</td>\n",
       "    </tr>\n",
       "    <tr>\n",
       "      <th>17</th>\n",
       "      <td>Nature's Lullabies Second Year Sticker Calendar</td>\n",
       "      <td>This was the only calender I could find for th...</td>\n",
       "      <td>5</td>\n",
       "      <td>This was the only calender I could find for th...</td>\n",
       "      <td>1</td>\n",
       "    </tr>\n",
       "    <tr>\n",
       "      <th>18</th>\n",
       "      <td>Nature's Lullabies Second Year Sticker Calendar</td>\n",
       "      <td>I completed a calendar for my son's first year...</td>\n",
       "      <td>4</td>\n",
       "      <td>I completed a calendar for my sons first year ...</td>\n",
       "      <td>1</td>\n",
       "    </tr>\n",
       "    <tr>\n",
       "      <th>19</th>\n",
       "      <td>Nature's Lullabies Second Year Sticker Calendar</td>\n",
       "      <td>We wanted to get something to keep track of ou...</td>\n",
       "      <td>5</td>\n",
       "      <td>We wanted to get something to keep track of ou...</td>\n",
       "      <td>1</td>\n",
       "    </tr>\n",
       "    <tr>\n",
       "      <th>20</th>\n",
       "      <td>Nature's Lullabies Second Year Sticker Calendar</td>\n",
       "      <td>I had a hard time finding a second year calend...</td>\n",
       "      <td>5</td>\n",
       "      <td>I had a hard time finding a second year calend...</td>\n",
       "      <td>1</td>\n",
       "    </tr>\n",
       "    <tr>\n",
       "      <th>21</th>\n",
       "      <td>Nature's Lullabies Second Year Sticker Calendar</td>\n",
       "      <td>I only purchased a second-year calendar for my...</td>\n",
       "      <td>2</td>\n",
       "      <td>I only purchased a secondyear calendar for my ...</td>\n",
       "      <td>-1</td>\n",
       "    </tr>\n",
       "    <tr>\n",
       "      <th>22</th>\n",
       "      <td>Nature's Lullabies Second Year Sticker Calendar</td>\n",
       "      <td>I LOVE this calendar for recording events of m...</td>\n",
       "      <td>5</td>\n",
       "      <td>I LOVE this calendar for recording events of m...</td>\n",
       "      <td>1</td>\n",
       "    </tr>\n",
       "    <tr>\n",
       "      <th>24</th>\n",
       "      <td>Nature's Lullabies Second Year Sticker Calendar</td>\n",
       "      <td>Wife loves this calender. Comes with a lot of ...</td>\n",
       "      <td>5</td>\n",
       "      <td>Wife loves this calender Comes with a lot of s...</td>\n",
       "      <td>1</td>\n",
       "    </tr>\n",
       "    <tr>\n",
       "      <th>25</th>\n",
       "      <td>Nature's Lullabies Second Year Sticker Calendar</td>\n",
       "      <td>My daughter had her 1st baby over a year ago. ...</td>\n",
       "      <td>5</td>\n",
       "      <td>My daughter had her 1st baby over a year ago S...</td>\n",
       "      <td>1</td>\n",
       "    </tr>\n",
       "    <tr>\n",
       "      <th>26</th>\n",
       "      <td>Baby's First Journal - Green</td>\n",
       "      <td>Extremely useful! As a new mom, tired and inex...</td>\n",
       "      <td>5</td>\n",
       "      <td>Extremely useful As a new mom tired and inexpe...</td>\n",
       "      <td>1</td>\n",
       "    </tr>\n",
       "    <tr>\n",
       "      <th>28</th>\n",
       "      <td>Lamaze Peekaboo, I Love You</td>\n",
       "      <td>One of baby's first and favorite books, and it...</td>\n",
       "      <td>4</td>\n",
       "      <td>One of babys first and favorite books and it i...</td>\n",
       "      <td>1</td>\n",
       "    </tr>\n",
       "    <tr>\n",
       "      <th>29</th>\n",
       "      <td>Lamaze Peekaboo, I Love You</td>\n",
       "      <td>I like how the book has a hook to attach it to...</td>\n",
       "      <td>5</td>\n",
       "      <td>I like how the book has a hook to attach it to...</td>\n",
       "      <td>1</td>\n",
       "    </tr>\n",
       "    <tr>\n",
       "      <th>30</th>\n",
       "      <td>Lamaze Peekaboo, I Love You</td>\n",
       "      <td>Beautiful little book.  A great little short s...</td>\n",
       "      <td>5</td>\n",
       "      <td>Beautiful little book  A great little short st...</td>\n",
       "      <td>1</td>\n",
       "    </tr>\n",
       "    <tr>\n",
       "      <th>31</th>\n",
       "      <td>Lamaze Peekaboo, I Love You</td>\n",
       "      <td>This book is so worth the money. It says 9+ mo...</td>\n",
       "      <td>5</td>\n",
       "      <td>This book is so worth the money It says 9 mont...</td>\n",
       "      <td>1</td>\n",
       "    </tr>\n",
       "    <tr>\n",
       "      <th>32</th>\n",
       "      <td>Lamaze Peekaboo, I Love You</td>\n",
       "      <td>we just got this book for our one-year-old and...</td>\n",
       "      <td>5</td>\n",
       "      <td>we just got this book for our oneyearold and s...</td>\n",
       "      <td>1</td>\n",
       "    </tr>\n",
       "    <tr>\n",
       "      <th>33</th>\n",
       "      <td>Lamaze Peekaboo, I Love You</td>\n",
       "      <td>The book is colorful and is perfect for 6month...</td>\n",
       "      <td>4</td>\n",
       "      <td>The book is colorful and is perfect for 6month...</td>\n",
       "      <td>1</td>\n",
       "    </tr>\n",
       "    <tr>\n",
       "      <th>...</th>\n",
       "      <td>...</td>\n",
       "      <td>...</td>\n",
       "      <td>...</td>\n",
       "      <td>...</td>\n",
       "      <td>...</td>\n",
       "    </tr>\n",
       "    <tr>\n",
       "      <th>183499</th>\n",
       "      <td>Maxboost iPhone 5S/5 Case - Protective Snap-on...</td>\n",
       "      <td>I received a free sample from VIPU program for...</td>\n",
       "      <td>5</td>\n",
       "      <td>I received a free sample from VIPU program for...</td>\n",
       "      <td>1</td>\n",
       "    </tr>\n",
       "    <tr>\n",
       "      <th>183500</th>\n",
       "      <td>Maxboost iPhone 5S/5 Case - Protective Snap-on...</td>\n",
       "      <td>Great product, great company! Their daily give...</td>\n",
       "      <td>5</td>\n",
       "      <td>Great product great company Their daily giveaw...</td>\n",
       "      <td>1</td>\n",
       "    </tr>\n",
       "    <tr>\n",
       "      <th>183501</th>\n",
       "      <td>Maxboost iPhone 5S/5 Case - Protective Snap-on...</td>\n",
       "      <td>I received a free sample from VIPU program for...</td>\n",
       "      <td>5</td>\n",
       "      <td>I received a free sample from VIPU program for...</td>\n",
       "      <td>1</td>\n",
       "    </tr>\n",
       "    <tr>\n",
       "      <th>183502</th>\n",
       "      <td>Maxboost iPhone 5S/5 Case - Protective Snap-on...</td>\n",
       "      <td>It got here incredibly fast &amp; it is a nice dur...</td>\n",
       "      <td>5</td>\n",
       "      <td>It got here incredibly fast  it is a nice dura...</td>\n",
       "      <td>1</td>\n",
       "    </tr>\n",
       "    <tr>\n",
       "      <th>183503</th>\n",
       "      <td>Maxboost iPhone 5S/5 Case - Protective Snap-on...</td>\n",
       "      <td>I got this case in the mail today, it came on ...</td>\n",
       "      <td>2</td>\n",
       "      <td>I got this case in the mail today it came on t...</td>\n",
       "      <td>-1</td>\n",
       "    </tr>\n",
       "    <tr>\n",
       "      <th>183504</th>\n",
       "      <td>Maxboost iPhone 5S/5 Case - Protective Snap-on...</td>\n",
       "      <td>Free caseLove it... The color was great firm h...</td>\n",
       "      <td>5</td>\n",
       "      <td>Free caseLove it The color was great firm hold...</td>\n",
       "      <td>1</td>\n",
       "    </tr>\n",
       "    <tr>\n",
       "      <th>183505</th>\n",
       "      <td>Maxboost iPhone 5S/5 Case - Protective Snap-on...</td>\n",
       "      <td>I received a free sample from VIPU program for...</td>\n",
       "      <td>5</td>\n",
       "      <td>I received a free sample from VIPU program for...</td>\n",
       "      <td>1</td>\n",
       "    </tr>\n",
       "    <tr>\n",
       "      <th>183506</th>\n",
       "      <td>Maxboost iPhone 5S/5 Case - Protective Snap-on...</td>\n",
       "      <td>This case definitely isn't cheap. It feels ver...</td>\n",
       "      <td>5</td>\n",
       "      <td>This case definitely isnt cheap It feels very ...</td>\n",
       "      <td>1</td>\n",
       "    </tr>\n",
       "    <tr>\n",
       "      <th>183507</th>\n",
       "      <td>Maxboost iPhone 5S/5 Case - Protective Snap-on...</td>\n",
       "      <td>got this for my wife and she loves it would de...</td>\n",
       "      <td>5</td>\n",
       "      <td>got this for my wife and she loves it would de...</td>\n",
       "      <td>1</td>\n",
       "    </tr>\n",
       "    <tr>\n",
       "      <th>183508</th>\n",
       "      <td>Maxboost iPhone 5S/5 Case - Protective Snap-on...</td>\n",
       "      <td>love this case. It fit perfectly and the color...</td>\n",
       "      <td>5</td>\n",
       "      <td>love this case It fit perfectly and the color ...</td>\n",
       "      <td>1</td>\n",
       "    </tr>\n",
       "    <tr>\n",
       "      <th>183509</th>\n",
       "      <td>Maxboost iPhone 5S/5 Case - Protective Snap-on...</td>\n",
       "      <td>this case is the greatest very cool and stylis...</td>\n",
       "      <td>5</td>\n",
       "      <td>this case is the greatest very cool and stylis...</td>\n",
       "      <td>1</td>\n",
       "    </tr>\n",
       "    <tr>\n",
       "      <th>183510</th>\n",
       "      <td>Maxboost iPhone 5S/5 Case - Protective Snap-on...</td>\n",
       "      <td>Great fit. Really love how red it is.</td>\n",
       "      <td>5</td>\n",
       "      <td>Great fit Really love how red it is</td>\n",
       "      <td>1</td>\n",
       "    </tr>\n",
       "    <tr>\n",
       "      <th>183512</th>\n",
       "      <td>Maxboost iPhone 5S/5 Case - Protective Snap-on...</td>\n",
       "      <td>*I received a free sample from VIPU program fo...</td>\n",
       "      <td>5</td>\n",
       "      <td>I received a free sample from VIPU program for...</td>\n",
       "      <td>1</td>\n",
       "    </tr>\n",
       "    <tr>\n",
       "      <th>183513</th>\n",
       "      <td>Maxboost iPhone 5S/5 Case - Protective Snap-on...</td>\n",
       "      <td>I was a very surprised by the quality of this ...</td>\n",
       "      <td>5</td>\n",
       "      <td>I was a very surprised by the quality of this ...</td>\n",
       "      <td>1</td>\n",
       "    </tr>\n",
       "    <tr>\n",
       "      <th>183514</th>\n",
       "      <td>Maxboost iPhone 5S/5 Case - Protective Snap-on...</td>\n",
       "      <td>I received a free sample from VIPU program for...</td>\n",
       "      <td>4</td>\n",
       "      <td>I received a free sample from VIPU program for...</td>\n",
       "      <td>1</td>\n",
       "    </tr>\n",
       "    <tr>\n",
       "      <th>183515</th>\n",
       "      <td>Maxboost iPhone 5S/5 Case - Protective Snap-on...</td>\n",
       "      <td>I love this phone case!  My  iPhone is always ...</td>\n",
       "      <td>5</td>\n",
       "      <td>I love this phone case  My  iPhone is always s...</td>\n",
       "      <td>1</td>\n",
       "    </tr>\n",
       "    <tr>\n",
       "      <th>183517</th>\n",
       "      <td>Baby Mucus Extractor, Nasal Aspirator From Dr....</td>\n",
       "      <td>I recieved this product free of charge and abs...</td>\n",
       "      <td>5</td>\n",
       "      <td>I recieved this product free of charge and abs...</td>\n",
       "      <td>1</td>\n",
       "    </tr>\n",
       "    <tr>\n",
       "      <th>183518</th>\n",
       "      <td>Baby Mucus Extractor, Nasal Aspirator From Dr....</td>\n",
       "      <td>The tube is soft and easy to use, and the tip ...</td>\n",
       "      <td>5</td>\n",
       "      <td>The tube is soft and easy to use and the tip i...</td>\n",
       "      <td>1</td>\n",
       "    </tr>\n",
       "    <tr>\n",
       "      <th>183519</th>\n",
       "      <td>Baby Mucus Extractor, Nasal Aspirator From Dr....</td>\n",
       "      <td>I love this so much. It works way better than ...</td>\n",
       "      <td>5</td>\n",
       "      <td>I love this so much It works way better than t...</td>\n",
       "      <td>1</td>\n",
       "    </tr>\n",
       "    <tr>\n",
       "      <th>183520</th>\n",
       "      <td>Baby Mucus Extractor, Nasal Aspirator From Dr....</td>\n",
       "      <td>The aspirator works well but needs to come wit...</td>\n",
       "      <td>4</td>\n",
       "      <td>The aspirator works well but needs to come wit...</td>\n",
       "      <td>1</td>\n",
       "    </tr>\n",
       "    <tr>\n",
       "      <th>183521</th>\n",
       "      <td>Airline Seat Belt Extender - The Best Extensio...</td>\n",
       "      <td>Up until recently I have hated flying, putting...</td>\n",
       "      <td>5</td>\n",
       "      <td>Up until recently I have hated flying putting ...</td>\n",
       "      <td>1</td>\n",
       "    </tr>\n",
       "    <tr>\n",
       "      <th>183522</th>\n",
       "      <td>Airline Seat Belt Extender - The Best Extensio...</td>\n",
       "      <td>I bought this as a father's day gift for my da...</td>\n",
       "      <td>5</td>\n",
       "      <td>I bought this as a fathers day gift for my dad...</td>\n",
       "      <td>1</td>\n",
       "    </tr>\n",
       "    <tr>\n",
       "      <th>183523</th>\n",
       "      <td>Squeasy Snacker 6oz Silicone Reusable Food Pou...</td>\n",
       "      <td>I love that these can hold purees OR liquids, ...</td>\n",
       "      <td>5</td>\n",
       "      <td>I love that these can hold purees OR liquids a...</td>\n",
       "      <td>1</td>\n",
       "    </tr>\n",
       "    <tr>\n",
       "      <th>183524</th>\n",
       "      <td>Squeasy Snacker 6oz Silicone Reusable Food Pou...</td>\n",
       "      <td>I love this product, it makes my life easier. ...</td>\n",
       "      <td>5</td>\n",
       "      <td>I love this product it makes my life easier Wi...</td>\n",
       "      <td>1</td>\n",
       "    </tr>\n",
       "    <tr>\n",
       "      <th>183525</th>\n",
       "      <td>Squeasy Snacker 6oz Silicone Reusable Food Pou...</td>\n",
       "      <td>This reusable squeeze bottle is the best I hav...</td>\n",
       "      <td>5</td>\n",
       "      <td>This reusable squeeze bottle is the best I hav...</td>\n",
       "      <td>1</td>\n",
       "    </tr>\n",
       "    <tr>\n",
       "      <th>183526</th>\n",
       "      <td>Baby Teething Necklace for Mom Pretty Donut Sh...</td>\n",
       "      <td>Such a great idea! very handy to have and look...</td>\n",
       "      <td>5</td>\n",
       "      <td>Such a great idea very handy to have and look ...</td>\n",
       "      <td>1</td>\n",
       "    </tr>\n",
       "    <tr>\n",
       "      <th>183527</th>\n",
       "      <td>Baby Teething Necklace for Mom Pretty Donut Sh...</td>\n",
       "      <td>This product rocks!  It is a great blend of fu...</td>\n",
       "      <td>5</td>\n",
       "      <td>This product rocks  It is a great blend of fun...</td>\n",
       "      <td>1</td>\n",
       "    </tr>\n",
       "    <tr>\n",
       "      <th>183528</th>\n",
       "      <td>Abstract 2 PK Baby / Toddler Training Cup (Pink)</td>\n",
       "      <td>This item looks great and cool for my kids.......</td>\n",
       "      <td>5</td>\n",
       "      <td>This item looks great and cool for my kidsI kn...</td>\n",
       "      <td>1</td>\n",
       "    </tr>\n",
       "    <tr>\n",
       "      <th>183529</th>\n",
       "      <td>Baby Food Freezer Tray - Bacteria Resistant, B...</td>\n",
       "      <td>I am extremely happy with this product. I have...</td>\n",
       "      <td>5</td>\n",
       "      <td>I am extremely happy with this product I have ...</td>\n",
       "      <td>1</td>\n",
       "    </tr>\n",
       "    <tr>\n",
       "      <th>183530</th>\n",
       "      <td>Best 2 Pack Baby Car Shade for Kids - Window S...</td>\n",
       "      <td>I love this product very mush . I have bought ...</td>\n",
       "      <td>5</td>\n",
       "      <td>I love this product very mush  I have bought m...</td>\n",
       "      <td>1</td>\n",
       "    </tr>\n",
       "  </tbody>\n",
       "</table>\n",
       "<p>166752 rows × 5 columns</p>\n",
       "</div>"
      ],
      "text/plain": [
       "                                                     name  \\\n",
       "1                                   Planetwise Wipe Pouch   \n",
       "2                     Annas Dream Full Quilt with 2 Shams   \n",
       "3       Stop Pacifier Sucking without tears with Thumb...   \n",
       "4       Stop Pacifier Sucking without tears with Thumb...   \n",
       "5       Stop Pacifier Sucking without tears with Thumb...   \n",
       "6                 A Tale of Baby's Days with Peter Rabbit   \n",
       "7       Baby Tracker&reg; - Daily Childcare Journal, S...   \n",
       "8       Baby Tracker&reg; - Daily Childcare Journal, S...   \n",
       "9       Baby Tracker&reg; - Daily Childcare Journal, S...   \n",
       "10      Baby Tracker&reg; - Daily Childcare Journal, S...   \n",
       "11      Baby Tracker&reg; - Daily Childcare Journal, S...   \n",
       "12      Baby Tracker&reg; - Daily Childcare Journal, S...   \n",
       "14         Nature's Lullabies First Year Sticker Calendar   \n",
       "15         Nature's Lullabies First Year Sticker Calendar   \n",
       "16         Nature's Lullabies First Year Sticker Calendar   \n",
       "17        Nature's Lullabies Second Year Sticker Calendar   \n",
       "18        Nature's Lullabies Second Year Sticker Calendar   \n",
       "19        Nature's Lullabies Second Year Sticker Calendar   \n",
       "20        Nature's Lullabies Second Year Sticker Calendar   \n",
       "21        Nature's Lullabies Second Year Sticker Calendar   \n",
       "22        Nature's Lullabies Second Year Sticker Calendar   \n",
       "24        Nature's Lullabies Second Year Sticker Calendar   \n",
       "25        Nature's Lullabies Second Year Sticker Calendar   \n",
       "26                           Baby's First Journal - Green   \n",
       "28                            Lamaze Peekaboo, I Love You   \n",
       "29                            Lamaze Peekaboo, I Love You   \n",
       "30                            Lamaze Peekaboo, I Love You   \n",
       "31                            Lamaze Peekaboo, I Love You   \n",
       "32                            Lamaze Peekaboo, I Love You   \n",
       "33                            Lamaze Peekaboo, I Love You   \n",
       "...                                                   ...   \n",
       "183499  Maxboost iPhone 5S/5 Case - Protective Snap-on...   \n",
       "183500  Maxboost iPhone 5S/5 Case - Protective Snap-on...   \n",
       "183501  Maxboost iPhone 5S/5 Case - Protective Snap-on...   \n",
       "183502  Maxboost iPhone 5S/5 Case - Protective Snap-on...   \n",
       "183503  Maxboost iPhone 5S/5 Case - Protective Snap-on...   \n",
       "183504  Maxboost iPhone 5S/5 Case - Protective Snap-on...   \n",
       "183505  Maxboost iPhone 5S/5 Case - Protective Snap-on...   \n",
       "183506  Maxboost iPhone 5S/5 Case - Protective Snap-on...   \n",
       "183507  Maxboost iPhone 5S/5 Case - Protective Snap-on...   \n",
       "183508  Maxboost iPhone 5S/5 Case - Protective Snap-on...   \n",
       "183509  Maxboost iPhone 5S/5 Case - Protective Snap-on...   \n",
       "183510  Maxboost iPhone 5S/5 Case - Protective Snap-on...   \n",
       "183512  Maxboost iPhone 5S/5 Case - Protective Snap-on...   \n",
       "183513  Maxboost iPhone 5S/5 Case - Protective Snap-on...   \n",
       "183514  Maxboost iPhone 5S/5 Case - Protective Snap-on...   \n",
       "183515  Maxboost iPhone 5S/5 Case - Protective Snap-on...   \n",
       "183517  Baby Mucus Extractor, Nasal Aspirator From Dr....   \n",
       "183518  Baby Mucus Extractor, Nasal Aspirator From Dr....   \n",
       "183519  Baby Mucus Extractor, Nasal Aspirator From Dr....   \n",
       "183520  Baby Mucus Extractor, Nasal Aspirator From Dr....   \n",
       "183521  Airline Seat Belt Extender - The Best Extensio...   \n",
       "183522  Airline Seat Belt Extender - The Best Extensio...   \n",
       "183523  Squeasy Snacker 6oz Silicone Reusable Food Pou...   \n",
       "183524  Squeasy Snacker 6oz Silicone Reusable Food Pou...   \n",
       "183525  Squeasy Snacker 6oz Silicone Reusable Food Pou...   \n",
       "183526  Baby Teething Necklace for Mom Pretty Donut Sh...   \n",
       "183527  Baby Teething Necklace for Mom Pretty Donut Sh...   \n",
       "183528   Abstract 2 PK Baby / Toddler Training Cup (Pink)   \n",
       "183529  Baby Food Freezer Tray - Bacteria Resistant, B...   \n",
       "183530  Best 2 Pack Baby Car Shade for Kids - Window S...   \n",
       "\n",
       "                                                   review  rating  \\\n",
       "1       it came early and was not disappointed. i love...       5   \n",
       "2       Very soft and comfortable and warmer than it l...       5   \n",
       "3       This is a product well worth the purchase.  I ...       5   \n",
       "4       All of my kids have cried non-stop when I trie...       5   \n",
       "5       When the Binky Fairy came to our house, we did...       5   \n",
       "6       Lovely book, it's bound tightly so you may not...       4   \n",
       "7       Perfect for new parents. We were able to keep ...       5   \n",
       "8       A friend of mine pinned this product on Pinter...       5   \n",
       "9       This has been an easy way for my nanny to reco...       4   \n",
       "10      I love this journal and our nanny uses it ever...       4   \n",
       "11      This book is perfect!  I'm a first time new mo...       5   \n",
       "12      I originally just gave the nanny a pad of pape...       4   \n",
       "14      Space for monthly photos, info and a lot of us...       5   \n",
       "15      I bought this calender for myself for my secon...       4   \n",
       "16      I love this little calender, you can keep trac...       5   \n",
       "17      This was the only calender I could find for th...       5   \n",
       "18      I completed a calendar for my son's first year...       4   \n",
       "19      We wanted to get something to keep track of ou...       5   \n",
       "20      I had a hard time finding a second year calend...       5   \n",
       "21      I only purchased a second-year calendar for my...       2   \n",
       "22      I LOVE this calendar for recording events of m...       5   \n",
       "24      Wife loves this calender. Comes with a lot of ...       5   \n",
       "25      My daughter had her 1st baby over a year ago. ...       5   \n",
       "26      Extremely useful! As a new mom, tired and inex...       5   \n",
       "28      One of baby's first and favorite books, and it...       4   \n",
       "29      I like how the book has a hook to attach it to...       5   \n",
       "30      Beautiful little book.  A great little short s...       5   \n",
       "31      This book is so worth the money. It says 9+ mo...       5   \n",
       "32      we just got this book for our one-year-old and...       5   \n",
       "33      The book is colorful and is perfect for 6month...       4   \n",
       "...                                                   ...     ...   \n",
       "183499  I received a free sample from VIPU program for...       5   \n",
       "183500  Great product, great company! Their daily give...       5   \n",
       "183501  I received a free sample from VIPU program for...       5   \n",
       "183502  It got here incredibly fast & it is a nice dur...       5   \n",
       "183503  I got this case in the mail today, it came on ...       2   \n",
       "183504  Free caseLove it... The color was great firm h...       5   \n",
       "183505  I received a free sample from VIPU program for...       5   \n",
       "183506  This case definitely isn't cheap. It feels ver...       5   \n",
       "183507  got this for my wife and she loves it would de...       5   \n",
       "183508  love this case. It fit perfectly and the color...       5   \n",
       "183509  this case is the greatest very cool and stylis...       5   \n",
       "183510              Great fit. Really love how red it is.       5   \n",
       "183512  *I received a free sample from VIPU program fo...       5   \n",
       "183513  I was a very surprised by the quality of this ...       5   \n",
       "183514  I received a free sample from VIPU program for...       4   \n",
       "183515  I love this phone case!  My  iPhone is always ...       5   \n",
       "183517  I recieved this product free of charge and abs...       5   \n",
       "183518  The tube is soft and easy to use, and the tip ...       5   \n",
       "183519  I love this so much. It works way better than ...       5   \n",
       "183520  The aspirator works well but needs to come wit...       4   \n",
       "183521  Up until recently I have hated flying, putting...       5   \n",
       "183522  I bought this as a father's day gift for my da...       5   \n",
       "183523  I love that these can hold purees OR liquids, ...       5   \n",
       "183524  I love this product, it makes my life easier. ...       5   \n",
       "183525  This reusable squeeze bottle is the best I hav...       5   \n",
       "183526  Such a great idea! very handy to have and look...       5   \n",
       "183527  This product rocks!  It is a great blend of fu...       5   \n",
       "183528  This item looks great and cool for my kids.......       5   \n",
       "183529  I am extremely happy with this product. I have...       5   \n",
       "183530  I love this product very mush . I have bought ...       5   \n",
       "\n",
       "                                             review_clean  sentiment  \n",
       "1       it came early and was not disappointed i love ...          1  \n",
       "2       Very soft and comfortable and warmer than it l...          1  \n",
       "3       This is a product well worth the purchase  I h...          1  \n",
       "4       All of my kids have cried nonstop when I tried...          1  \n",
       "5       When the Binky Fairy came to our house we didn...          1  \n",
       "6       Lovely book its bound tightly so you may not b...          1  \n",
       "7       Perfect for new parents We were able to keep t...          1  \n",
       "8       A friend of mine pinned this product on Pinter...          1  \n",
       "9       This has been an easy way for my nanny to reco...          1  \n",
       "10      I love this journal and our nanny uses it ever...          1  \n",
       "11      This book is perfect  Im a first time new mom ...          1  \n",
       "12      I originally just gave the nanny a pad of pape...          1  \n",
       "14      Space for monthly photos info and a lot of use...          1  \n",
       "15      I bought this calender for myself for my secon...          1  \n",
       "16      I love this little calender you can keep track...          1  \n",
       "17      This was the only calender I could find for th...          1  \n",
       "18      I completed a calendar for my sons first year ...          1  \n",
       "19      We wanted to get something to keep track of ou...          1  \n",
       "20      I had a hard time finding a second year calend...          1  \n",
       "21      I only purchased a secondyear calendar for my ...         -1  \n",
       "22      I LOVE this calendar for recording events of m...          1  \n",
       "24      Wife loves this calender Comes with a lot of s...          1  \n",
       "25      My daughter had her 1st baby over a year ago S...          1  \n",
       "26      Extremely useful As a new mom tired and inexpe...          1  \n",
       "28      One of babys first and favorite books and it i...          1  \n",
       "29      I like how the book has a hook to attach it to...          1  \n",
       "30      Beautiful little book  A great little short st...          1  \n",
       "31      This book is so worth the money It says 9 mont...          1  \n",
       "32      we just got this book for our oneyearold and s...          1  \n",
       "33      The book is colorful and is perfect for 6month...          1  \n",
       "...                                                   ...        ...  \n",
       "183499  I received a free sample from VIPU program for...          1  \n",
       "183500  Great product great company Their daily giveaw...          1  \n",
       "183501  I received a free sample from VIPU program for...          1  \n",
       "183502  It got here incredibly fast  it is a nice dura...          1  \n",
       "183503  I got this case in the mail today it came on t...         -1  \n",
       "183504  Free caseLove it The color was great firm hold...          1  \n",
       "183505  I received a free sample from VIPU program for...          1  \n",
       "183506  This case definitely isnt cheap It feels very ...          1  \n",
       "183507  got this for my wife and she loves it would de...          1  \n",
       "183508  love this case It fit perfectly and the color ...          1  \n",
       "183509  this case is the greatest very cool and stylis...          1  \n",
       "183510                Great fit Really love how red it is          1  \n",
       "183512  I received a free sample from VIPU program for...          1  \n",
       "183513  I was a very surprised by the quality of this ...          1  \n",
       "183514  I received a free sample from VIPU program for...          1  \n",
       "183515  I love this phone case  My  iPhone is always s...          1  \n",
       "183517  I recieved this product free of charge and abs...          1  \n",
       "183518  The tube is soft and easy to use and the tip i...          1  \n",
       "183519  I love this so much It works way better than t...          1  \n",
       "183520  The aspirator works well but needs to come wit...          1  \n",
       "183521  Up until recently I have hated flying putting ...          1  \n",
       "183522  I bought this as a fathers day gift for my dad...          1  \n",
       "183523  I love that these can hold purees OR liquids a...          1  \n",
       "183524  I love this product it makes my life easier Wi...          1  \n",
       "183525  This reusable squeeze bottle is the best I hav...          1  \n",
       "183526  Such a great idea very handy to have and look ...          1  \n",
       "183527  This product rocks  It is a great blend of fun...          1  \n",
       "183528  This item looks great and cool for my kidsI kn...          1  \n",
       "183529  I am extremely happy with this product I have ...          1  \n",
       "183530  I love this product very mush  I have bought m...          1  \n",
       "\n",
       "[166752 rows x 5 columns]"
      ]
     },
     "execution_count": 10,
     "metadata": {},
     "output_type": "execute_result"
    }
   ],
   "source": [
    "pproducts['sentiment'] = pproducts['rating'].apply(lambda rating : +1 if rating > 3 else -1)\n",
    "pproducts"
   ]
  },
  {
   "cell_type": "markdown",
   "metadata": {},
   "source": [
    "Now, we can see that the dataset contains an extra column called **sentiment** which is either positive (+1) or negative (-1)."
   ]
  },
  {
   "cell_type": "markdown",
   "metadata": {},
   "source": [
    "## Split data into training and test sets"
   ]
  },
  {
   "cell_type": "markdown",
   "metadata": {},
   "source": [
    "Let's perform a train/test split with 80% of the data in the training set and 20% of the data in the test set. We use `seed=1` so that everyone gets the same result."
   ]
  },
  {
   "cell_type": "code",
   "execution_count": 11,
   "metadata": {
    "collapsed": false
   },
   "outputs": [
    {
     "name": "stdout",
     "output_type": "stream",
     "text": [
      "146786\n",
      "36745\n"
     ]
    }
   ],
   "source": [
    "train_data, test_data = products.random_split(.8, seed=1)\n",
    "print len(train_data)\n",
    "print len(test_data)"
   ]
  },
  {
   "cell_type": "code",
   "execution_count": 12,
   "metadata": {
    "collapsed": false
   },
   "outputs": [],
   "source": [
    "ptrain_data = train_data.to_dataframe()\n",
    "ptrain_data = ptrain_data.fillna({'review':''})\n",
    "ptrain_data['review_clean'] = ptrain_data['review'].apply(remove_punctuation)\n",
    "ptrain_data['word_count'] = ptrain_data['review_clean'].apply(lambda x: len(x.split()))\n",
    "ptrain_data = ptrain_data[ptrain_data['rating'] != 3]\n",
    "ptrain_data['sentiment'] = ptrain_data['rating'].apply(lambda rating : +1 if rating > 3 else -1)\n",
    "\n",
    "ptest_data = test_data.to_dataframe()\n",
    "ptest_data = ptest_data.fillna({'review':''})\n",
    "ptest_data['review_clean'] = ptest_data['review'].apply(remove_punctuation)\n",
    "ptest_data['word_count'] = ptest_data['review_clean'].apply(lambda x: len(x.split()))\n",
    "ptest_data = ptest_data[ptest_data['rating'] != 3]\n",
    "ptest_data['sentiment'] = ptest_data['rating'].apply(lambda rating : +1 if rating > 3 else -1)"
   ]
  },
  {
   "cell_type": "code",
   "execution_count": 13,
   "metadata": {
    "collapsed": false
   },
   "outputs": [
    {
     "data": {
      "text/plain": [
       "pandas.core.series.Series"
      ]
     },
     "execution_count": 13,
     "metadata": {},
     "output_type": "execute_result"
    }
   ],
   "source": [
    "type(ptrain_data['review_clean'])"
   ]
  },
  {
   "cell_type": "code",
   "execution_count": 13,
   "metadata": {
    "collapsed": false
   },
   "outputs": [],
   "source": [
    "from sklearn.feature_extraction.text import CountVectorizer\n",
    "\n",
    "vectorizer = CountVectorizer(token_pattern=r'\\b\\w+\\b')\n",
    "# Use this token pattern to keep single-letter words\n",
    "# First, learn vocabulary from the training data and assign columns to words\n",
    "# Then convert the training data into a sparse matrix\n",
    "train_matrix = vectorizer.fit_transform(ptrain_data['review_clean'])\n",
    "# Second, convert the test data into a sparse matrix, using the same word-column mapping\n",
    "test_matrix = vectorizer.transform(ptest_data['review_clean'])"
   ]
  },
  {
   "cell_type": "code",
   "execution_count": 14,
   "metadata": {
    "collapsed": false
   },
   "outputs": [
    {
     "name": "stdout",
     "output_type": "stream",
     "text": [
      "                                                     name  \\\n",
      "1                                   Planetwise Wipe Pouch   \n",
      "2                     Annas Dream Full Quilt with 2 Shams   \n",
      "3       Stop Pacifier Sucking without tears with Thumb...   \n",
      "4       Stop Pacifier Sucking without tears with Thumb...   \n",
      "5       Stop Pacifier Sucking without tears with Thumb...   \n",
      "6                 A Tale of Baby's Days with Peter Rabbit   \n",
      "7       Baby Tracker&reg; - Daily Childcare Journal, S...   \n",
      "8       Baby Tracker&reg; - Daily Childcare Journal, S...   \n",
      "9       Baby Tracker&reg; - Daily Childcare Journal, S...   \n",
      "10      Baby Tracker&reg; - Daily Childcare Journal, S...   \n",
      "12         Nature's Lullabies First Year Sticker Calendar   \n",
      "13         Nature's Lullabies First Year Sticker Calendar   \n",
      "14        Nature's Lullabies Second Year Sticker Calendar   \n",
      "15        Nature's Lullabies Second Year Sticker Calendar   \n",
      "16        Nature's Lullabies Second Year Sticker Calendar   \n",
      "17        Nature's Lullabies Second Year Sticker Calendar   \n",
      "18        Nature's Lullabies Second Year Sticker Calendar   \n",
      "20        Nature's Lullabies Second Year Sticker Calendar   \n",
      "21                           Baby's First Journal - Green   \n",
      "23                            Lamaze Peekaboo, I Love You   \n",
      "24                            Lamaze Peekaboo, I Love You   \n",
      "25                            Lamaze Peekaboo, I Love You   \n",
      "26                            Lamaze Peekaboo, I Love You   \n",
      "28                            Lamaze Peekaboo, I Love You   \n",
      "29                            Lamaze Peekaboo, I Love You   \n",
      "30           SoftPlay Twinkle Twinkle Elmo A Bedtime Book   \n",
      "31           SoftPlay Twinkle Twinkle Elmo A Bedtime Book   \n",
      "32             SoftPlay Giggle Jiggle Funbook, Happy Bear   \n",
      "33      SoftPlay Peek-A-Boo Where's Elmo A Children's ...   \n",
      "34      SoftPlay Peek-A-Boo Where's Elmo A Children's ...   \n",
      "...                                                   ...   \n",
      "146755  Maxboost iPhone 5S/5 Case - Protective Snap-on...   \n",
      "146756  Maxboost iPhone 5S/5 Case - Protective Snap-on...   \n",
      "146757  Maxboost iPhone 5S/5 Case - Protective Snap-on...   \n",
      "146758  Maxboost iPhone 5S/5 Case - Protective Snap-on...   \n",
      "146759  Maxboost iPhone 5S/5 Case - Protective Snap-on...   \n",
      "146760  Maxboost iPhone 5S/5 Case - Protective Snap-on...   \n",
      "146761  Maxboost iPhone 5S/5 Case - Protective Snap-on...   \n",
      "146762  Maxboost iPhone 5S/5 Case - Protective Snap-on...   \n",
      "146763  Maxboost iPhone 5S/5 Case - Protective Snap-on...   \n",
      "146764  Maxboost iPhone 5S/5 Case - Protective Snap-on...   \n",
      "146765  Maxboost iPhone 5S/5 Case - Protective Snap-on...   \n",
      "146766  Maxboost iPhone 5S/5 Case - Protective Snap-on...   \n",
      "146767  Maxboost iPhone 5S/5 Case - Protective Snap-on...   \n",
      "146768  Maxboost iPhone 5S/5 Case - Protective Snap-on...   \n",
      "146769  Maxboost iPhone 5S/5 Case - Protective Snap-on...   \n",
      "146770  Maxboost iPhone 5S/5 Case - Protective Snap-on...   \n",
      "146772  Maxboost iPhone 5S/5 Case - Protective Snap-on...   \n",
      "146773  Maxboost iPhone 5S/5 Case - Protective Snap-on...   \n",
      "146774  Maxboost iPhone 5S/5 Case - Protective Snap-on...   \n",
      "146775  Maxboost iPhone 5S/5 Case - Protective Snap-on...   \n",
      "146776  Baby Mucus Extractor, Nasal Aspirator From Dr....   \n",
      "146777  Baby Mucus Extractor, Nasal Aspirator From Dr....   \n",
      "146778  Baby Mucus Extractor, Nasal Aspirator From Dr....   \n",
      "146779  Airline Seat Belt Extender - The Best Extensio...   \n",
      "146780  Squeasy Snacker 6oz Silicone Reusable Food Pou...   \n",
      "146781  Squeasy Snacker 6oz Silicone Reusable Food Pou...   \n",
      "146782  Squeasy Snacker 6oz Silicone Reusable Food Pou...   \n",
      "146783  Baby Teething Necklace for Mom Pretty Donut Sh...   \n",
      "146784   Abstract 2 PK Baby / Toddler Training Cup (Pink)   \n",
      "146785  Baby Food Freezer Tray - Bacteria Resistant, B...   \n",
      "\n",
      "                                                   review  rating  \\\n",
      "1       it came early and was not disappointed. i love...       5   \n",
      "2       Very soft and comfortable and warmer than it l...       5   \n",
      "3       This is a product well worth the purchase.  I ...       5   \n",
      "4       All of my kids have cried non-stop when I trie...       5   \n",
      "5       When the Binky Fairy came to our house, we did...       5   \n",
      "6       Lovely book, it's bound tightly so you may not...       4   \n",
      "7       Perfect for new parents. We were able to keep ...       5   \n",
      "8       I love this journal and our nanny uses it ever...       4   \n",
      "9       This book is perfect!  I'm a first time new mo...       5   \n",
      "10      I originally just gave the nanny a pad of pape...       4   \n",
      "12      I bought this calender for myself for my secon...       4   \n",
      "13      I love this little calender, you can keep trac...       5   \n",
      "14      This was the only calender I could find for th...       5   \n",
      "15      We wanted to get something to keep track of ou...       5   \n",
      "16      I had a hard time finding a second year calend...       5   \n",
      "17      I only purchased a second-year calendar for my...       2   \n",
      "18      I LOVE this calendar for recording events of m...       5   \n",
      "20      My daughter had her 1st baby over a year ago. ...       5   \n",
      "21      Extremely useful! As a new mom, tired and inex...       5   \n",
      "23      One of baby's first and favorite books, and it...       4   \n",
      "24      I like how the book has a hook to attach it to...       5   \n",
      "25      Beautiful little book.  A great little short s...       5   \n",
      "26      The book is colorful and is perfect for 6month...       4   \n",
      "28      What a great book for babies!  I'd been lookin...       5   \n",
      "29      Our baby loves this book & has loved it for a ...       5   \n",
      "30      My son likes brushing elmo's teeth. Almost too...       5   \n",
      "31      This was a birthday present for my 2 year old ...       5   \n",
      "32      This bear is absolutely adorable and I would g...       2   \n",
      "33      My baby absolutely loves Elmo and so this book...       5   \n",
      "34      I bought two for recent baby showers!  The boo...       5   \n",
      "...                                                   ...     ...   \n",
      "146755  This i got for one of my friends becuase she w...       5   \n",
      "146756  I love maxboost best phone company ever, I was...       5   \n",
      "146757  I got this case as a free sample and it is gre...       5   \n",
      "146758  Love how this case looks on my phone simple an...       5   \n",
      "146759  Love this case. It is very thin,looks and feel...       5   \n",
      "146760  I love the color , And is everything I expecte...       5   \n",
      "146761  After receiving my free case from a giveaway, ...       5   \n",
      "146762  I received a free sample from VIPU program for...       5   \n",
      "146763  Great product, great company! Their daily give...       5   \n",
      "146764  I received a free sample from VIPU program for...       5   \n",
      "146765  It got here incredibly fast & it is a nice dur...       5   \n",
      "146766  I received a free sample from VIPU program for...       5   \n",
      "146767  This case definitely isn't cheap. It feels ver...       5   \n",
      "146768  got this for my wife and she loves it would de...       5   \n",
      "146769  love this case. It fit perfectly and the color...       5   \n",
      "146770              Great fit. Really love how red it is.       5   \n",
      "146772  *I received a free sample from VIPU program fo...       5   \n",
      "146773  I was a very surprised by the quality of this ...       5   \n",
      "146774  I received a free sample from VIPU program for...       4   \n",
      "146775  I love this phone case!  My  iPhone is always ...       5   \n",
      "146776  I recieved this product free of charge and abs...       5   \n",
      "146777  I love this so much. It works way better than ...       5   \n",
      "146778  The aspirator works well but needs to come wit...       4   \n",
      "146779  Up until recently I have hated flying, putting...       5   \n",
      "146780  I love that these can hold purees OR liquids, ...       5   \n",
      "146781  I love this product, it makes my life easier. ...       5   \n",
      "146782  This reusable squeeze bottle is the best I hav...       5   \n",
      "146783  This product rocks!  It is a great blend of fu...       5   \n",
      "146784  This item looks great and cool for my kids.......       5   \n",
      "146785  I am extremely happy with this product. I have...       5   \n",
      "\n",
      "                                             review_clean  word_count  \\\n",
      "1       it came early and was not disappointed i love ...          30   \n",
      "2       Very soft and comfortable and warmer than it l...          23   \n",
      "3       This is a product well worth the purchase  I h...          74   \n",
      "4       All of my kids have cried nonstop when I tried...          76   \n",
      "5       When the Binky Fairy came to our house we didn...          93   \n",
      "6       Lovely book its bound tightly so you may not b...          39   \n",
      "7       Perfect for new parents We were able to keep t...          47   \n",
      "8       I love this journal and our nanny uses it ever...         189   \n",
      "9       This book is perfect  Im a first time new mom ...          46   \n",
      "10      I originally just gave the nanny a pad of pape...         238   \n",
      "12      I bought this calender for myself for my secon...          98   \n",
      "13      I love this little calender you can keep track...          22   \n",
      "14      This was the only calender I could find for th...          47   \n",
      "15      We wanted to get something to keep track of ou...          32   \n",
      "16      I had a hard time finding a second year calend...         103   \n",
      "17      I only purchased a secondyear calendar for my ...          90   \n",
      "18      I LOVE this calendar for recording events of m...          94   \n",
      "20      My daughter had her 1st baby over a year ago S...          75   \n",
      "21      Extremely useful As a new mom tired and inexpe...          25   \n",
      "23      One of babys first and favorite books and it i...          34   \n",
      "24      I like how the book has a hook to attach it to...          28   \n",
      "25      Beautiful little book  A great little short st...          38   \n",
      "26      The book is colorful and is perfect for 6month...          38   \n",
      "28      What a great book for babies  Id been looking ...          53   \n",
      "29      Our baby loves this book  has loved it for a w...          28   \n",
      "30      My son likes brushing elmos teeth Almost too n...          19   \n",
      "31      This was a birthday present for my 2 year old ...          39   \n",
      "32      This bear is absolutely adorable and I would g...          90   \n",
      "33      My baby absolutely loves Elmo and so this book...          96   \n",
      "34      I bought two for recent baby showers  The book...          28   \n",
      "...                                                   ...         ...   \n",
      "146755  This i got for one of my friends becuase she w...          33   \n",
      "146756  I love maxboost best phone company ever I was ...          47   \n",
      "146757  I got this case as a free sample and it is gre...          59   \n",
      "146758  Love how this case looks on my phone simple an...          25   \n",
      "146759  Love this case It is very thinlooks and feels ...          18   \n",
      "146760    I love the color  And is everything I expected            9   \n",
      "146761  After receiving my free case from a giveaway I...          82   \n",
      "146762  I received a free sample from VIPU program for...          39   \n",
      "146763  Great product great company Their daily giveaw...          44   \n",
      "146764  I received a free sample from VIPU program for...          35   \n",
      "146765  It got here incredibly fast  it is a nice dura...          35   \n",
      "146766  I received a free sample from VIPU program for...          30   \n",
      "146767  This case definitely isnt cheap It feels very ...         123   \n",
      "146768  got this for my wife and she loves it would de...          14   \n",
      "146769  love this case It fit perfectly and the color ...          10   \n",
      "146770                Great fit Really love how red it is           8   \n",
      "146772  I received a free sample from VIPU program for...          45   \n",
      "146773  I was a very surprised by the quality of this ...          22   \n",
      "146774  I received a free sample from VIPU program for...          61   \n",
      "146775  I love this phone case  My  iPhone is always s...          24   \n",
      "146776  I recieved this product free of charge and abs...          58   \n",
      "146777  I love this so much It works way better than t...          42   \n",
      "146778  The aspirator works well but needs to come wit...          72   \n",
      "146779  Up until recently I have hated flying putting ...          73   \n",
      "146780  I love that these can hold purees OR liquids a...          95   \n",
      "146781  I love this product it makes my life easier Wi...          94   \n",
      "146782  This reusable squeeze bottle is the best I hav...         214   \n",
      "146783  This product rocks  It is a great blend of fun...          64   \n",
      "146784  This item looks great and cool for my kidsI kn...          17   \n",
      "146785  I am extremely happy with this product I have ...         170   \n",
      "\n",
      "        sentiment  \n",
      "1               1  \n",
      "2               1  \n",
      "3               1  \n",
      "4               1  \n",
      "5               1  \n",
      "6               1  \n",
      "7               1  \n",
      "8               1  \n",
      "9               1  \n",
      "10              1  \n",
      "12              1  \n",
      "13              1  \n",
      "14              1  \n",
      "15              1  \n",
      "16              1  \n",
      "17             -1  \n",
      "18              1  \n",
      "20              1  \n",
      "21              1  \n",
      "23              1  \n",
      "24              1  \n",
      "25              1  \n",
      "26              1  \n",
      "28              1  \n",
      "29              1  \n",
      "30              1  \n",
      "31              1  \n",
      "32             -1  \n",
      "33              1  \n",
      "34              1  \n",
      "...           ...  \n",
      "146755          1  \n",
      "146756          1  \n",
      "146757          1  \n",
      "146758          1  \n",
      "146759          1  \n",
      "146760          1  \n",
      "146761          1  \n",
      "146762          1  \n",
      "146763          1  \n",
      "146764          1  \n",
      "146765          1  \n",
      "146766          1  \n",
      "146767          1  \n",
      "146768          1  \n",
      "146769          1  \n",
      "146770          1  \n",
      "146772          1  \n",
      "146773          1  \n",
      "146774          1  \n",
      "146775          1  \n",
      "146776          1  \n",
      "146777          1  \n",
      "146778          1  \n",
      "146779          1  \n",
      "146780          1  \n",
      "146781          1  \n",
      "146782          1  \n",
      "146783          1  \n",
      "146784          1  \n",
      "146785          1  \n",
      "\n",
      "[133373 rows x 6 columns]\n",
      "                                                    name  \\\n",
      "0      Baby Tracker&reg; - Daily Childcare Journal, S...   \n",
      "1      Baby Tracker&reg; - Daily Childcare Journal, S...   \n",
      "2         Nature's Lullabies First Year Sticker Calendar   \n",
      "3        Nature's Lullabies Second Year Sticker Calendar   \n",
      "4        Nature's Lullabies Second Year Sticker Calendar   \n",
      "5                            Lamaze Peekaboo, I Love You   \n",
      "6                            Lamaze Peekaboo, I Love You   \n",
      "7                            Lamaze Peekaboo, I Love You   \n",
      "8           SoftPlay Twinkle Twinkle Elmo A Bedtime Book   \n",
      "9                              SoftPlay Cloth Book, Love   \n",
      "11                             Our Baby Girl Memory Book   \n",
      "12     Cloth Diaper Pins Stainless Steel Traditional ...   \n",
      "13     Newborn Baby Tracker&reg; - Round the Clock Ch...   \n",
      "14     Newborn Baby Tracker&reg; - Round the Clock Ch...   \n",
      "15     Newborn Baby Tracker&reg; - Round the Clock Ch...   \n",
      "16     Newborn Baby Tracker&reg; - Round the Clock Ch...   \n",
      "17     Newborn Baby Tracker&reg; - Round the Clock Ch...   \n",
      "18     Edu-Petit Teddy Bobo's Big Learning Book Devel...   \n",
      "19     Modern House Safari Animal Family removable Vi...   \n",
      "20     Neurosmith - Music Blocks with Mozart Music Ca...   \n",
      "21     Neurosmith - Music Blocks with Mozart Music Ca...   \n",
      "22     Neurosmith - Music Blocks with Mozart Music Ca...   \n",
      "23         my first fish bowl by lamaze / learning curve   \n",
      "24         my first fish bowl by lamaze / learning curve   \n",
      "25         my first fish bowl by lamaze / learning curve   \n",
      "26                                    Pedal Farm Tractor   \n",
      "27                  Fisher Price Nesting Action Vehicles   \n",
      "28                  Fisher Price Nesting Action Vehicles   \n",
      "29                  Fisher Price Nesting Action Vehicles   \n",
      "30                  Fisher Price Nesting Action Vehicles   \n",
      "...                                                  ...   \n",
      "36713  Baby Daily Tracker Log - Childcare Activity Jo...   \n",
      "36714  BEST Baby Bibs 100% Cotton Waterproof Drool Th...   \n",
      "36715         Summer Infant Pop 'n Play Portable Playard   \n",
      "36716  Soho Soren the Owl 6 in 1 Deluxe Diaper Bag *L...   \n",
      "36717  Soho Soren the Owl 6 in 1 Deluxe Diaper Bag *L...   \n",
      "36718  Organza Embroidered Gauze Dress Stitching (S, ...   \n",
      "36719  Toddler Pillow - Soft Hypoallergenic - Best Pi...   \n",
      "36720  2pcs Mommy's Pal:Extra long High Quality Adhes...   \n",
      "36721  My Learning Lovey by Baby Jack. Educational ba...   \n",
      "36722                Evenflo Bouncin Barnyard Exersaucer   \n",
      "36723  Maxboost iPhone 5S/5 Case - Protective Snap-on...   \n",
      "36724  Maxboost iPhone 5S/5 Case - Protective Snap-on...   \n",
      "36725  Maxboost iPhone 5S/5 Case - Protective Snap-on...   \n",
      "36726  Maxboost iPhone 5S/5 Case - Protective Snap-on...   \n",
      "36727  Maxboost iPhone 5S/5 Case - Protective Snap-on...   \n",
      "36728  Sweet CareFor Bamboo Baby Wipes - 80 Wipe Pack...   \n",
      "36729       Best BIB for Baby - Soft Bib (Pink-Elephant)   \n",
      "36730                Shea Butter Soap For Sensitive Skin   \n",
      "36731  Swaddle - &quot;Classic&quot; Zen Swaddle - We...   \n",
      "36732       Bouncy&reg; Inflatable Real Feel Hopping Cow   \n",
      "36734       Best Bottom Stay Dry Inserts, Large, 3 Count   \n",
      "36735       Best Bottom Stay Dry Inserts, Large, 3 Count   \n",
      "36736       Best Bottom Stay Dry Inserts, Large, 3 Count   \n",
      "36737  Maxboost iPhone 5S/5 Case - Protective Snap-on...   \n",
      "36738  Maxboost iPhone 5S/5 Case - Protective Snap-on...   \n",
      "36739  Maxboost iPhone 5S/5 Case - Protective Snap-on...   \n",
      "36741  Baby Mucus Extractor, Nasal Aspirator From Dr....   \n",
      "36742  Airline Seat Belt Extender - The Best Extensio...   \n",
      "36743  Baby Teething Necklace for Mom Pretty Donut Sh...   \n",
      "36744  Best 2 Pack Baby Car Shade for Kids - Window S...   \n",
      "\n",
      "                                                  review  rating  \\\n",
      "0      A friend of mine pinned this product on Pinter...       5   \n",
      "1      This has been an easy way for my nanny to reco...       4   \n",
      "2      Space for monthly photos, info and a lot of us...       5   \n",
      "3      I completed a calendar for my son's first year...       4   \n",
      "4      Wife loves this calender. Comes with a lot of ...       5   \n",
      "5      This book is so worth the money. It says 9+ mo...       5   \n",
      "6      we just got this book for our one-year-old and...       5   \n",
      "7      My son loved this book as an infant.  It was p...       5   \n",
      "8                                                              5   \n",
      "9      This book is boring. Nothing to stimulate my g...       1   \n",
      "11     Really happy with this purchase. I was looking...       5   \n",
      "12     It has been many years since we needed diaper ...       5   \n",
      "13     Love it love it love it!!  Got my first baby t...       5   \n",
      "14     We found this book at a rummage sale and found...       5   \n",
      "15     I got this baby tracker as part of the 'new pa...       5   \n",
      "16     I loved how this book was set up to keep track...       5   \n",
      "17     This is the best way to keep track of when you...       5   \n",
      "18     I bought this for my 17 month old son as a for...       4   \n",
      "19     the instructions were really clear, howerver t...       5   \n",
      "20     My daughter started playing with her Music Blo...       5   \n",
      "21     I bought this 18 months ago for my 6 year old ...       4   \n",
      "22     Recently I have purchased the musical mozart b...       5   \n",
      "23     This is a very good toy that helps manual dext...       5   \n",
      "24     We first bought this toy for our oldest child ...       5   \n",
      "25     We received this as a present for our 6 month ...       4   \n",
      "26     We chose this tractor and trailer for a family...       5   \n",
      "27     My one year old son received these as a birthd...       5   \n",
      "28     My 14 month old son loves to stack and play wi...       5   \n",
      "29     After being inundated with toys that require b...       5   \n",
      "30     We bought these trucks for our 15 mo. old daug...       5   \n",
      "...                                                  ...     ...   \n",
      "36713  I ordered this to help track how frequently my...       5   \n",
      "36714  Great bibs. Love the adjustable snaps and asso...       4   \n",
      "36715  I am a big fan of infant playards. Unfortunate...       4   \n",
      "36716  This bag is so adorable! I couldn't wait to ge...       5   \n",
      "36717  Ordered this bag, it looks more great in perso...       5   \n",
      "36718                                    Beautiful dress       4   \n",
      "36719  I got this for my friend's 4 year old and she ...       5   \n",
      "36720  Bought these for my sister as she was starting...       5   \n",
      "36721  This is the perfect gift for someone that is e...       5   \n",
      "36722  Not sure what to say about this, other than it...       5   \n",
      "36723  i love the case, color, and how it feels while...       5   \n",
      "36724  I received a free sample from VIPU program for...       5   \n",
      "36725  This case is great, not only does it look supe...       5   \n",
      "36726  I received this as a free sample from VIPU pro...       5   \n",
      "36727                                        It was good       5   \n",
      "36728  Gave these a try and was impressed!  Thick, du...       5   \n",
      "36729  Love this bib, Good quality, Catches everythin...       5   \n",
      "36730  I have tried many soaps throughout my life, an...       5   \n",
      "36731  Overall we really like this swaddle; the light...       4   \n",
      "36732  This has to be the cutest bouncing toy I have ...       4   \n",
      "36734  I've used a variety of cloth covers and insert...       5   \n",
      "36735  The Best Bottom system is really great, especi...       5   \n",
      "36736  I love the best bottom diaper system. I've onl...       5   \n",
      "36737  I got this case in the mail today, it came on ...       2   \n",
      "36738  Free caseLove it... The color was great firm h...       5   \n",
      "36739  this case is the greatest very cool and stylis...       5   \n",
      "36741  The tube is soft and easy to use, and the tip ...       5   \n",
      "36742  I bought this as a father's day gift for my da...       5   \n",
      "36743  Such a great idea! very handy to have and look...       5   \n",
      "36744  I love this product very mush . I have bought ...       5   \n",
      "\n",
      "                                            review_clean  word_count  \\\n",
      "0      A friend of mine pinned this product on Pinter...          39   \n",
      "1      This has been an easy way for my nanny to reco...          80   \n",
      "2      Space for monthly photos info and a lot of use...          20   \n",
      "3      I completed a calendar for my sons first year ...          76   \n",
      "4      Wife loves this calender Comes with a lot of s...          60   \n",
      "5      This book is so worth the money It says 9 mont...          44   \n",
      "6      we just got this book for our oneyearold and s...          71   \n",
      "7      My son loved this book as an infant  It was pe...         142   \n",
      "8                                                                  0   \n",
      "9      This book is boring Nothing to stimulate my gr...          20   \n",
      "11     Really happy with this purchase I was looking ...          42   \n",
      "12     It has been many years since we needed diaper ...          87   \n",
      "13     Love it love it love it  Got my first baby tra...          71   \n",
      "14     We found this book at a rummage sale and found...          90   \n",
      "15     I got this baby tracker as part of the new par...          51   \n",
      "16     I loved how this book was set up to keep track...          39   \n",
      "17     This is the best way to keep track of when you...          46   \n",
      "18     I bought this for my 17 month old son as a for...          40   \n",
      "19     the instructions were really clear howerver th...          34   \n",
      "20     My daughter started playing with her Music Blo...          69   \n",
      "21     I bought this 18 months ago for my 6 year old ...          50   \n",
      "22     Recently I have purchased the musical mozart b...         229   \n",
      "23     This is a very good toy that helps manual dext...          31   \n",
      "24     We first bought this toy for our oldest child ...         114   \n",
      "25     We received this as a present for our 6 month ...          60   \n",
      "26     We chose this tractor and trailer for a family...         131   \n",
      "27     My one year old son received these as a birthd...          65   \n",
      "28     My 14 month old son loves to stack and play wi...          40   \n",
      "29     After being inundated with toys that require b...          90   \n",
      "30     We bought these trucks for our 15 mo old daugh...          62   \n",
      "...                                                  ...         ...   \n",
      "36713  I ordered this to help track how frequently my...          69   \n",
      "36714  Great bibs Love the adjustable snaps and assor...          10   \n",
      "36715  I am a big fan of infant playards Unfortunatel...         315   \n",
      "36716  This bag is so adorable I couldnt wait to get ...          34   \n",
      "36717     Ordered this bag it looks more great in person           9   \n",
      "36718                                    Beautiful dress           2   \n",
      "36719  I got this for my friends 4 year old and she r...          60   \n",
      "36720  Bought these for my sister as she was starting...          75   \n",
      "36721  This is the perfect gift for someone that is e...          36   \n",
      "36722  Not sure what to say about this other than its...         429   \n",
      "36723  i love the case color and how it feels while i...          26   \n",
      "36724  I received a free sample from VIPU program for...          28   \n",
      "36725  This case is great not only does it look super...         124   \n",
      "36726  I received this as a free sample from VIPU pro...          46   \n",
      "36727                                        It was good           3   \n",
      "36728  Gave these a try and was impressed  Thick dura...          27   \n",
      "36729  Love this bib Good quality Catches everything ...          26   \n",
      "36730  I have tried many soaps throughout my life and...          79   \n",
      "36731  Overall we really like this swaddle the light ...         199   \n",
      "36732  This has to be the cutest bouncing toy I have ...          47   \n",
      "36734  Ive used a variety of cloth covers and inserts...         216   \n",
      "36735  The Best Bottom system is really great especia...          98   \n",
      "36736  I love the best bottom diaper system Ive only ...          38   \n",
      "36737  I got this case in the mail today it came on t...          65   \n",
      "36738  Free caseLove it The color was great firm hold...          25   \n",
      "36739  this case is the greatest very cool and stylis...          24   \n",
      "36741  The tube is soft and easy to use and the tip i...          61   \n",
      "36742  I bought this as a fathers day gift for my dad...          73   \n",
      "36743  Such a great idea very handy to have and look ...          27   \n",
      "36744  I love this product very mush  I have bought m...          36   \n",
      "\n",
      "       sentiment  \n",
      "0              1  \n",
      "1              1  \n",
      "2              1  \n",
      "3              1  \n",
      "4              1  \n",
      "5              1  \n",
      "6              1  \n",
      "7              1  \n",
      "8              1  \n",
      "9             -1  \n",
      "11             1  \n",
      "12             1  \n",
      "13             1  \n",
      "14             1  \n",
      "15             1  \n",
      "16             1  \n",
      "17             1  \n",
      "18             1  \n",
      "19             1  \n",
      "20             1  \n",
      "21             1  \n",
      "22             1  \n",
      "23             1  \n",
      "24             1  \n",
      "25             1  \n",
      "26             1  \n",
      "27             1  \n",
      "28             1  \n",
      "29             1  \n",
      "30             1  \n",
      "...          ...  \n",
      "36713          1  \n",
      "36714          1  \n",
      "36715          1  \n",
      "36716          1  \n",
      "36717          1  \n",
      "36718          1  \n",
      "36719          1  \n",
      "36720          1  \n",
      "36721          1  \n",
      "36722          1  \n",
      "36723          1  \n",
      "36724          1  \n",
      "36725          1  \n",
      "36726          1  \n",
      "36727          1  \n",
      "36728          1  \n",
      "36729          1  \n",
      "36730          1  \n",
      "36731          1  \n",
      "36732          1  \n",
      "36734          1  \n",
      "36735          1  \n",
      "36736          1  \n",
      "36737         -1  \n",
      "36738          1  \n",
      "36739          1  \n",
      "36741          1  \n",
      "36742          1  \n",
      "36743          1  \n",
      "36744          1  \n",
      "\n",
      "[33379 rows x 6 columns]\n"
     ]
    }
   ],
   "source": [
    "print ptrain_data\n",
    "print ptest_data"
   ]
  },
  {
   "cell_type": "code",
   "execution_count": 15,
   "metadata": {
    "collapsed": false
   },
   "outputs": [
    {
     "name": "stdout",
     "output_type": "stream",
     "text": [
      "['it came early and was not disappointed i love planet wise bags and now my wipe holder it keps my osocozy wipes moist and does not leak highly recommend it', 'Very soft and comfortable and warmer than it looksfit the full size bed perfectlywould recommend to anyone looking for this type of quilt']\n"
     ]
    }
   ],
   "source": [
    "bag_of_words = []\n",
    "for i in ptrain_data['review_clean']:\n",
    "    bag_of_words.append(i)\n",
    "print bag_of_words[0:2]"
   ]
  },
  {
   "cell_type": "markdown",
   "metadata": {},
   "source": [
    "# Train a sentiment classifier with logistic regression\n",
    "\n",
    "We will now use logistic regression to create a sentiment classifier on the training data. This model will use the column **word_count** as a feature and the column **sentiment** as the target. We will use `validation_set=None` to obtain same results as everyone else.\n",
    "\n",
    "**Note:** This line may take 1-2 minutes."
   ]
  },
  {
   "cell_type": "code",
   "execution_count": 16,
   "metadata": {
    "collapsed": false
   },
   "outputs": [
    {
     "ename": "ToolkitError",
     "evalue": "The following columns were expected but are missing: ['sentiment']",
     "output_type": "error",
     "traceback": [
      "\u001b[1;31m---------------------------------------------------------------------------\u001b[0m",
      "\u001b[1;31mToolkitError\u001b[0m                              Traceback (most recent call last)",
      "\u001b[1;32m<ipython-input-16-90f17710a816>\u001b[0m in \u001b[0;36m<module>\u001b[1;34m()\u001b[0m\n\u001b[0;32m      2\u001b[0m                                                       \u001b[0mtarget\u001b[0m \u001b[1;33m=\u001b[0m \u001b[1;34m'sentiment'\u001b[0m\u001b[1;33m,\u001b[0m\u001b[1;33m\u001b[0m\u001b[0m\n\u001b[0;32m      3\u001b[0m                                                       \u001b[0mfeatures\u001b[0m\u001b[1;33m=\u001b[0m\u001b[1;33m[\u001b[0m\u001b[1;34m'word_count'\u001b[0m\u001b[1;33m]\u001b[0m\u001b[1;33m,\u001b[0m\u001b[1;33m\u001b[0m\u001b[0m\n\u001b[1;32m----> 4\u001b[1;33m                                                       validation_set=None)\n\u001b[0m",
      "\u001b[1;32mC:\\Program Files (x86)\\Anaconda\\lib\\site-packages\\graphlab\\toolkits\\classifier\\logistic_classifier.pyc\u001b[0m in \u001b[0;36mcreate\u001b[1;34m(dataset, target, features, l2_penalty, l1_penalty, solver, feature_rescaling, convergence_threshold, step_size, lbfgs_memory_level, max_iterations, class_weights, validation_set, verbose)\u001b[0m\n\u001b[0;32m    306\u001b[0m                         \u001b[0mlbfgs_memory_level\u001b[0m \u001b[1;33m=\u001b[0m \u001b[0mlbfgs_memory_level\u001b[0m\u001b[1;33m,\u001b[0m\u001b[1;33m\u001b[0m\u001b[0m\n\u001b[0;32m    307\u001b[0m                         \u001b[0mmax_iterations\u001b[0m \u001b[1;33m=\u001b[0m \u001b[0mmax_iterations\u001b[0m\u001b[1;33m,\u001b[0m\u001b[1;33m\u001b[0m\u001b[0m\n\u001b[1;32m--> 308\u001b[1;33m                         class_weights = class_weights)\n\u001b[0m\u001b[0;32m    309\u001b[0m \u001b[1;33m\u001b[0m\u001b[0m\n\u001b[0;32m    310\u001b[0m     \u001b[1;32mreturn\u001b[0m \u001b[0mLogisticClassifier\u001b[0m\u001b[1;33m(\u001b[0m\u001b[0mmodel\u001b[0m\u001b[1;33m.\u001b[0m\u001b[0m__proxy__\u001b[0m\u001b[1;33m)\u001b[0m\u001b[1;33m\u001b[0m\u001b[0m\n",
      "\u001b[1;32mC:\\Program Files (x86)\\Anaconda\\lib\\site-packages\\graphlab\\toolkits\\_supervised_learning.pyc\u001b[0m in \u001b[0;36mcreate\u001b[1;34m(dataset, target, model_name, features, validation_set, verbose, distributed, **kwargs)\u001b[0m\n\u001b[0;32m    398\u001b[0m \u001b[1;33m\u001b[0m\u001b[0m\n\u001b[0;32m    399\u001b[0m     \u001b[1;31m# Target\u001b[0m\u001b[1;33m\u001b[0m\u001b[1;33m\u001b[0m\u001b[0m\n\u001b[1;32m--> 400\u001b[1;33m     \u001b[0mtarget_sframe\u001b[0m \u001b[1;33m=\u001b[0m \u001b[0m_toolkits_select_columns\u001b[0m\u001b[1;33m(\u001b[0m\u001b[0mdataset\u001b[0m\u001b[1;33m,\u001b[0m \u001b[1;33m[\u001b[0m\u001b[0mtarget\u001b[0m\u001b[1;33m]\u001b[0m\u001b[1;33m)\u001b[0m\u001b[1;33m\u001b[0m\u001b[0m\n\u001b[0m\u001b[0;32m    401\u001b[0m \u001b[1;33m\u001b[0m\u001b[0m\n\u001b[0;32m    402\u001b[0m     \u001b[1;31m# Features\u001b[0m\u001b[1;33m\u001b[0m\u001b[1;33m\u001b[0m\u001b[0m\n",
      "\u001b[1;32mC:\\Program Files (x86)\\Anaconda\\lib\\site-packages\\graphlab\\toolkits\\_internal_utils.pyc\u001b[0m in \u001b[0;36m_toolkits_select_columns\u001b[1;34m(dataset, columns)\u001b[0m\n\u001b[0;32m    301\u001b[0m         \u001b[0mmissing_features\u001b[0m \u001b[1;33m=\u001b[0m \u001b[0mlist\u001b[0m\u001b[1;33m(\u001b[0m\u001b[0mset\u001b[0m\u001b[1;33m(\u001b[0m\u001b[0mcolumns\u001b[0m\u001b[1;33m)\u001b[0m\u001b[1;33m.\u001b[0m\u001b[0mdifference\u001b[0m\u001b[1;33m(\u001b[0m\u001b[0mset\u001b[0m\u001b[1;33m(\u001b[0m\u001b[0mdataset\u001b[0m\u001b[1;33m.\u001b[0m\u001b[0mcolumn_names\u001b[0m\u001b[1;33m(\u001b[0m\u001b[1;33m)\u001b[0m\u001b[1;33m)\u001b[0m\u001b[1;33m)\u001b[0m\u001b[1;33m)\u001b[0m\u001b[1;33m\u001b[0m\u001b[0m\n\u001b[0;32m    302\u001b[0m         raise ToolkitError(\"The following columns were expected but are \" +\n\u001b[1;32m--> 303\u001b[1;33m                            \"missing: {}\".format(missing_features))\n\u001b[0m\u001b[0;32m    304\u001b[0m \u001b[1;33m\u001b[0m\u001b[0m\n\u001b[0;32m    305\u001b[0m def _raise_error_if_column_exists(dataset, column_name = 'dataset',\n",
      "\u001b[1;31mToolkitError\u001b[0m: The following columns were expected but are missing: ['sentiment']"
     ]
    }
   ],
   "source": [
    "sentiment_model = graphlab.logistic_classifier.create(train_data,\n",
    "                                                      target = 'sentiment',\n",
    "                                                      features=['word_count'],\n",
    "                                                      validation_set=None)"
   ]
  },
  {
   "cell_type": "code",
   "execution_count": 17,
   "metadata": {
    "collapsed": false,
    "scrolled": true
   },
   "outputs": [
    {
     "data": {
      "text/plain": [
       "121338"
      ]
     },
     "execution_count": 17,
     "metadata": {},
     "output_type": "execute_result"
    }
   ],
   "source": [
    "len(vectorizer.get_feature_names())"
   ]
  },
  {
   "cell_type": "code",
   "execution_count": 15,
   "metadata": {
    "collapsed": false
   },
   "outputs": [
    {
     "data": {
      "text/plain": [
       "LogisticRegression(C=1.0, class_weight=None, dual=False, fit_intercept=True,\n",
       "          intercept_scaling=1, max_iter=100, multi_class='ovr', n_jobs=1,\n",
       "          penalty='l2', random_state=None, solver='liblinear', tol=0.0001,\n",
       "          verbose=0, warm_start=False)"
      ]
     },
     "execution_count": 15,
     "metadata": {},
     "output_type": "execute_result"
    }
   ],
   "source": [
    "from sklearn import linear_model\n",
    "\n",
    "sentiment_model = linear_model.LogisticRegression()\n",
    "sentiment_model.fit(train_matrix, ptrain_data['sentiment'])"
   ]
  },
  {
   "cell_type": "markdown",
   "metadata": {},
   "source": [
    "**Aside**. You may get an warning to the effect of \"Terminated due to numerical difficulties --- this model may not be ideal\". It means that the quality metric (to be covered in Module 3) failed to improve in the last iteration of the run. The difficulty arises as the sentiment model puts too much weight on extremely rare words. A way to rectify this is to apply regularization, to be covered in Module 4. Regularization lessens the effect of extremely rare words. For the purpose of this assignment, however, please proceed with the model above."
   ]
  },
  {
   "cell_type": "markdown",
   "metadata": {},
   "source": [
    "Now that we have fitted the model, we can extract the weights (coefficients) as an SFrame as follows:"
   ]
  },
  {
   "cell_type": "code",
   "execution_count": 17,
   "metadata": {
    "collapsed": false
   },
   "outputs": [
    {
     "data": {
      "text/plain": [
       "121338"
      ]
     },
     "execution_count": 17,
     "metadata": {},
     "output_type": "execute_result"
    }
   ],
   "source": [
    "weights = sentiment_model.coef_\n",
    "\n",
    "weights.size"
   ]
  },
  {
   "cell_type": "markdown",
   "metadata": {},
   "source": [
    "There are a total of `121713` coefficients in the model. Recall from the lecture that positive weights $w_j$ correspond to weights that cause positive sentiment, while negative weights correspond to negative sentiment. \n",
    "\n",
    "Fill in the following block of code to calculate how many *weights* are positive ( >= 0). (**Hint**: The `'value'` column in SFrame *weights* must be positive ( >= 0))."
   ]
  },
  {
   "cell_type": "code",
   "execution_count": 18,
   "metadata": {
    "collapsed": false
   },
   "outputs": [
    {
     "name": "stdout",
     "output_type": "stream",
     "text": [
      "Number of positive weights: 86920 \n",
      "Number of negative weights: 34418 \n"
     ]
    }
   ],
   "source": [
    "num_positive_weights = (weights[weights > 0]).size\n",
    "num_negative_weights = (weights[weights < 0]).size\n",
    "\n",
    "print \"Number of positive weights: %s \" % num_positive_weights\n",
    "print \"Number of negative weights: %s \" % num_negative_weights"
   ]
  },
  {
   "cell_type": "markdown",
   "metadata": {},
   "source": [
    "**Quiz question:** How many weights are >= 0?"
   ]
  },
  {
   "cell_type": "markdown",
   "metadata": {},
   "source": [
    "## Making predictions with logistic regression\n",
    "\n",
    "Now that a model is trained, we can make predictions on the **test data**. In this section, we will explore this in the context of 3 examples in the test dataset.  We refer to this set of 3 examples as the **sample_test_data**."
   ]
  },
  {
   "cell_type": "code",
   "execution_count": 19,
   "metadata": {
    "collapsed": false
   },
   "outputs": [
    {
     "name": "stdout",
     "output_type": "stream",
     "text": [
      "11    5\n",
      "12    5\n",
      "13    5\n",
      "Name: rating, dtype: float64\n"
     ]
    },
    {
     "data": {
      "text/html": [
       "<div>\n",
       "<table border=\"1\" class=\"dataframe\">\n",
       "  <thead>\n",
       "    <tr style=\"text-align: right;\">\n",
       "      <th></th>\n",
       "      <th>name</th>\n",
       "      <th>review</th>\n",
       "      <th>rating</th>\n",
       "      <th>review_clean</th>\n",
       "      <th>word_count</th>\n",
       "      <th>sentiment</th>\n",
       "    </tr>\n",
       "  </thead>\n",
       "  <tbody>\n",
       "    <tr>\n",
       "      <th>11</th>\n",
       "      <td>Our Baby Girl Memory Book</td>\n",
       "      <td>Really happy with this purchase. I was looking...</td>\n",
       "      <td>5</td>\n",
       "      <td>Really happy with this purchase I was looking ...</td>\n",
       "      <td>42</td>\n",
       "      <td>1</td>\n",
       "    </tr>\n",
       "    <tr>\n",
       "      <th>12</th>\n",
       "      <td>Cloth Diaper Pins Stainless Steel Traditional ...</td>\n",
       "      <td>It has been many years since we needed diaper ...</td>\n",
       "      <td>5</td>\n",
       "      <td>It has been many years since we needed diaper ...</td>\n",
       "      <td>87</td>\n",
       "      <td>1</td>\n",
       "    </tr>\n",
       "    <tr>\n",
       "      <th>13</th>\n",
       "      <td>Newborn Baby Tracker&amp;reg; - Round the Clock Ch...</td>\n",
       "      <td>Love it love it love it!!  Got my first baby t...</td>\n",
       "      <td>5</td>\n",
       "      <td>Love it love it love it  Got my first baby tra...</td>\n",
       "      <td>71</td>\n",
       "      <td>1</td>\n",
       "    </tr>\n",
       "  </tbody>\n",
       "</table>\n",
       "</div>"
      ],
      "text/plain": [
       "                                                 name  \\\n",
       "11                          Our Baby Girl Memory Book   \n",
       "12  Cloth Diaper Pins Stainless Steel Traditional ...   \n",
       "13  Newborn Baby Tracker&reg; - Round the Clock Ch...   \n",
       "\n",
       "                                               review  rating  \\\n",
       "11  Really happy with this purchase. I was looking...       5   \n",
       "12  It has been many years since we needed diaper ...       5   \n",
       "13  Love it love it love it!!  Got my first baby t...       5   \n",
       "\n",
       "                                         review_clean  word_count  sentiment  \n",
       "11  Really happy with this purchase I was looking ...          42          1  \n",
       "12  It has been many years since we needed diaper ...          87          1  \n",
       "13  Love it love it love it  Got my first baby tra...          71          1  "
      ]
     },
     "execution_count": 19,
     "metadata": {},
     "output_type": "execute_result"
    }
   ],
   "source": [
    "sample_test_data = ptest_data[10:13]\n",
    "print sample_test_data['rating']\n",
    "sample_test_data"
   ]
  },
  {
   "cell_type": "markdown",
   "metadata": {},
   "source": [
    "Let's dig deeper into the first row of the **sample_test_data**. Here's the full review:"
   ]
  },
  {
   "cell_type": "code",
   "execution_count": 20,
   "metadata": {
    "collapsed": false
   },
   "outputs": [
    {
     "data": {
      "text/plain": [
       "\"Really happy with this purchase. I was looking for an english baby book (I'm French and the daddy is Flammish) and this is the perfect one. Lot of info to fill in : family, firsts...and mini pockets to preserve hair, maternity bracelet...Really happy!\""
      ]
     },
     "execution_count": 20,
     "metadata": {},
     "output_type": "execute_result"
    }
   ],
   "source": [
    "sample_test_data.iloc[0]['review']"
   ]
  },
  {
   "cell_type": "markdown",
   "metadata": {},
   "source": [
    "That review seems pretty positive.\n",
    "\n",
    "Now, let's see what the next row of the **sample_test_data** looks like. As we could guess from the sentiment (-1), the review is quite negative."
   ]
  },
  {
   "cell_type": "code",
   "execution_count": 21,
   "metadata": {
    "collapsed": false
   },
   "outputs": [
    {
     "data": {
      "text/plain": [
       "\"It has been many years since we needed diaper pins, but I do like to pin my socks together through the wash and have never lost one yet. I was using brass dressmaker pins but they tended to open up during the wash cycle. My wife suggested diaper pins and we tried them. Thery're working perfectly and staying together through the washing. Matter of fact they can get a little tricky to open, but of course that was the idea. Recommended to keep your socks &#34;friended up&#34;.\""
      ]
     },
     "execution_count": 21,
     "metadata": {},
     "output_type": "execute_result"
    }
   ],
   "source": [
    "sample_test_data.iloc[1]['review']"
   ]
  },
  {
   "cell_type": "markdown",
   "metadata": {},
   "source": [
    "We will now make a **class** prediction for the **sample_test_data**. The `sentiment_model` should predict **+1** if the sentiment is positive and **-1** if the sentiment is negative. Recall from the lecture that the **score** (sometimes called **margin**) for the logistic regression model  is defined as:\n",
    "\n",
    "$$\n",
    "\\mbox{score}_i = \\mathbf{w}^T h(\\mathbf{x}_i)\n",
    "$$ \n",
    "\n",
    "where $h(\\mathbf{x}_i)$ represents the features for example $i$.  We will write some code to obtain the **scores** using GraphLab Create. For each row, the **score** (or margin) is a number in the range **[-inf, inf]**."
   ]
  },
  {
   "cell_type": "code",
   "execution_count": 22,
   "metadata": {
    "collapsed": false
   },
   "outputs": [
    {
     "name": "stdout",
     "output_type": "stream",
     "text": [
      "[  9.82663394   7.87386249  10.92469517]\n"
     ]
    }
   ],
   "source": [
    "sample_matrix = vectorizer.transform(sample_test_data['review_clean'])\n",
    "scores = sentiment_model.decision_function(sample_matrix)\n",
    "print scores"
   ]
  },
  {
   "cell_type": "code",
   "execution_count": 62,
   "metadata": {
    "collapsed": false
   },
   "outputs": [
    {
     "name": "stdout",
     "output_type": "stream",
     "text": [
      "[[  5.39912840e-05   9.99946009e-01]\n",
      " [  3.80416833e-04   9.99619583e-01]\n",
      " [  1.80076628e-05   9.99981992e-01]]\n"
     ]
    }
   ],
   "source": [
    "predictions_proba = sentiment_model.predict_proba(sample_matrix)\n",
    "print predictions_proba"
   ]
  },
  {
   "cell_type": "markdown",
   "metadata": {},
   "source": [
    "### Predicting sentiment\n",
    "\n",
    "These scores can be used to make class predictions as follows:\n",
    "\n",
    "$$\n",
    "\\hat{y} = \n",
    "\\left\\{\n",
    "\\begin{array}{ll}\n",
    "      +1 & \\mathbf{w}^T h(\\mathbf{x}_i) > 0 \\\\\n",
    "      -1 & \\mathbf{w}^T h(\\mathbf{x}_i) \\leq 0 \\\\\n",
    "\\end{array} \n",
    "\\right.\n",
    "$$\n",
    "\n",
    "Using scores, write code to calculate $\\hat{y}$, the class predictions:"
   ]
  },
  {
   "cell_type": "code",
   "execution_count": 26,
   "metadata": {
    "collapsed": false
   },
   "outputs": [],
   "source": [
    "def predict_class(scores):\n",
    "    return [1 if score > 0 else 0 for score in scores]\n",
    "    "
   ]
  },
  {
   "cell_type": "markdown",
   "metadata": {},
   "source": [
    "Run the following code to verify that the class predictions obtained by your calculations are the same as that obtained from GraphLab Create."
   ]
  },
  {
   "cell_type": "code",
   "execution_count": 27,
   "metadata": {
    "collapsed": false
   },
   "outputs": [
    {
     "data": {
      "text/plain": [
       "[1, 1, 1]"
      ]
     },
     "execution_count": 27,
     "metadata": {},
     "output_type": "execute_result"
    }
   ],
   "source": [
    "predict_class(scores)"
   ]
  },
  {
   "cell_type": "code",
   "execution_count": 99,
   "metadata": {
    "collapsed": false
   },
   "outputs": [
    {
     "data": {
      "text/plain": [
       "2"
      ]
     },
     "execution_count": 99,
     "metadata": {},
     "output_type": "execute_result"
    }
   ],
   "source": [
    "p = sentiment_model.predict(sample_matrix)\n",
    "(p == [1,1,0]).sum()\n"
   ]
  },
  {
   "cell_type": "markdown",
   "metadata": {},
   "source": [
    "**Checkpoint**: Make sure your class predictions match with the one obtained from GraphLab Create.\n",
    "\n",
    "### Probability predictions\n",
    "\n",
    "Recall from the lectures that we can also calculate the probability predictions from the scores using:\n",
    "$$\n",
    "P(y_i = +1 | \\mathbf{x}_i,\\mathbf{w}) = \\frac{1}{1 + \\exp(-\\mathbf{w}^T h(\\mathbf{x}_i))}.\n",
    "$$\n",
    "\n",
    "Using the variable **scores** calculated previously, write code to calculate the probability that a sentiment is positive using the above formula. For each row, the probabilities should be a number in the range **[0, 1]**."
   ]
  },
  {
   "cell_type": "code",
   "execution_count": 23,
   "metadata": {
    "collapsed": false
   },
   "outputs": [],
   "source": [
    "def probability_predictions(scores):\n",
    "    return [1/(1 + math.exp(-score)) for score in scores]"
   ]
  },
  {
   "cell_type": "markdown",
   "metadata": {},
   "source": [
    "**Checkpoint**: Make sure your probability predictions match the ones obtained from GraphLab Create."
   ]
  },
  {
   "cell_type": "code",
   "execution_count": 24,
   "metadata": {
    "collapsed": false
   },
   "outputs": [
    {
     "data": {
      "text/plain": [
       "[0.9999460087159705, 0.9996195831665947, 0.9999819923372046]"
      ]
     },
     "execution_count": 24,
     "metadata": {},
     "output_type": "execute_result"
    }
   ],
   "source": [
    "probability_predictions(scores)"
   ]
  },
  {
   "cell_type": "code",
   "execution_count": null,
   "metadata": {
    "collapsed": false
   },
   "outputs": [],
   "source": [
    "print \"Class predictions according to GraphLab Create:\" \n",
    "print sentiment_model.predict(sample_test_data, output_type='probability')"
   ]
  },
  {
   "cell_type": "code",
   "execution_count": null,
   "metadata": {
    "collapsed": true
   },
   "outputs": [],
   "source": [
    "The second one"
   ]
  },
  {
   "cell_type": "markdown",
   "metadata": {},
   "source": [
    "** Quiz Question:** Of the three data points in **sample_test_data**, which one (first, second, or third) has the **lowest probability** of being classified as a positive review?"
   ]
  },
  {
   "cell_type": "markdown",
   "metadata": {},
   "source": [
    "# Find the most positive (and negative) review"
   ]
  },
  {
   "cell_type": "markdown",
   "metadata": {},
   "source": [
    "We now turn to examining the full test dataset, **test_data**, and use GraphLab Create to form predictions on all of the test data points for faster performance.\n",
    "\n",
    "Using the `sentiment_model`, find the 20 reviews in the entire **test_data** with the **highest probability** of being classified as a **positive review**. We refer to these as the \"most positive reviews.\"\n",
    "\n",
    "To calculate these top-20 reviews, use the following steps:\n",
    "1.  Make probability predictions on **test_data** using the `sentiment_model`. (**Hint:** When you call `.predict` to make predictions on the test data, use option `output_type='probability'` to output the probability rather than just the most likely class.)\n",
    "2.  Sort the data according to those predictions and pick the top 20. (**Hint:** You can use the `.topk` method on an SFrame to find the top k rows sorted according to the value of a specified column.)"
   ]
  },
  {
   "cell_type": "markdown",
   "metadata": {},
   "source": [
    "**Quiz Question**: Which of the following products are represented in the 20 most positive reviews? [multiple choice]\n",
    "\n",
    "\n",
    "Now, let us repeat this excercise to find the \"most negative reviews.\" Use the prediction probabilities to find the  20 reviews in the **test_data** with the **lowest probability** of being classified as a **positive review**. Repeat the same steps above but make sure you **sort in the opposite order**."
   ]
  },
  {
   "cell_type": "code",
   "execution_count": 63,
   "metadata": {
    "collapsed": false,
    "scrolled": true
   },
   "outputs": [],
   "source": [
    "ptest_matrix = vectorizer.transform(ptest_data['review_clean'])\n",
    "prediction_prob = sentiment_model.predict_proba(ptest_matrix)\n"
   ]
  },
  {
   "cell_type": "code",
   "execution_count": 80,
   "metadata": {
    "collapsed": false
   },
   "outputs": [
    {
     "data": {
      "text/plain": [
       "(133373L, 2L)"
      ]
     },
     "execution_count": 80,
     "metadata": {},
     "output_type": "execute_result"
    }
   ],
   "source": [
    "prediction_prob.shape"
   ]
  },
  {
   "cell_type": "code",
   "execution_count": 72,
   "metadata": {
    "collapsed": false
   },
   "outputs": [
    {
     "data": {
      "text/html": [
       "<div>\n",
       "<table border=\"1\" class=\"dataframe\">\n",
       "  <thead>\n",
       "    <tr style=\"text-align: right;\">\n",
       "      <th></th>\n",
       "      <th>name</th>\n",
       "      <th>review</th>\n",
       "      <th>rating</th>\n",
       "      <th>review_clean</th>\n",
       "      <th>word_count</th>\n",
       "      <th>sentiment</th>\n",
       "      <th>prob</th>\n",
       "      <th>probability of 1</th>\n",
       "    </tr>\n",
       "  </thead>\n",
       "  <tbody>\n",
       "    <tr>\n",
       "      <th>10631</th>\n",
       "      <td>Safety 1st High-Def Digital Monitor</td>\n",
       "      <td>We're on our second child with this monitor an...</td>\n",
       "      <td>5</td>\n",
       "      <td>Were on our second child with this monitor and...</td>\n",
       "      <td>165</td>\n",
       "      <td>1</td>\n",
       "      <td>0.983334</td>\n",
       "      <td>0.983334</td>\n",
       "    </tr>\n",
       "    <tr>\n",
       "      <th>10628</th>\n",
       "      <td>Safety 1st High-Def Digital Monitor</td>\n",
       "      <td>Finally, a baby monitor without static.  This ...</td>\n",
       "      <td>5</td>\n",
       "      <td>Finally a baby monitor without static  This pr...</td>\n",
       "      <td>61</td>\n",
       "      <td>1</td>\n",
       "      <td>0.989316</td>\n",
       "      <td>0.989316</td>\n",
       "    </tr>\n",
       "    <tr>\n",
       "      <th>10633</th>\n",
       "      <td>Safety 1st High-Def Digital Monitor</td>\n",
       "      <td>I did loads of research on buying this monitor...</td>\n",
       "      <td>5</td>\n",
       "      <td>I did loads of research on buying this monitor...</td>\n",
       "      <td>85</td>\n",
       "      <td>1</td>\n",
       "      <td>0.995846</td>\n",
       "      <td>0.995846</td>\n",
       "    </tr>\n",
       "    <tr>\n",
       "      <th>10625</th>\n",
       "      <td>Safety 1st High-Def Digital Monitor</td>\n",
       "      <td>If you have a house-load of electronic gadgetr...</td>\n",
       "      <td>5</td>\n",
       "      <td>If you have a houseload of electronic gadgetry...</td>\n",
       "      <td>318</td>\n",
       "      <td>1</td>\n",
       "      <td>0.999432</td>\n",
       "      <td>0.999432</td>\n",
       "    </tr>\n",
       "    <tr>\n",
       "      <th>10630</th>\n",
       "      <td>Safety 1st High-Def Digital Monitor</td>\n",
       "      <td>Not everything worked as described in the ad b...</td>\n",
       "      <td>5</td>\n",
       "      <td>Not everything worked as described in the ad b...</td>\n",
       "      <td>52</td>\n",
       "      <td>1</td>\n",
       "      <td>0.999894</td>\n",
       "      <td>0.999894</td>\n",
       "    </tr>\n",
       "    <tr>\n",
       "      <th>10626</th>\n",
       "      <td>Safety 1st High-Def Digital Monitor</td>\n",
       "      <td>First of all, ONE THOUSAND THANKS to the perso...</td>\n",
       "      <td>4</td>\n",
       "      <td>First of all ONE THOUSAND THANKS to the person...</td>\n",
       "      <td>336</td>\n",
       "      <td>1</td>\n",
       "      <td>0.999913</td>\n",
       "      <td>0.999913</td>\n",
       "    </tr>\n",
       "    <tr>\n",
       "      <th>10632</th>\n",
       "      <td>Safety 1st High-Def Digital Monitor</td>\n",
       "      <td>I have 7 kids so I been through A LOT of monit...</td>\n",
       "      <td>5</td>\n",
       "      <td>I have 7 kids so I been through A LOT of monit...</td>\n",
       "      <td>54</td>\n",
       "      <td>1</td>\n",
       "      <td>0.999999</td>\n",
       "      <td>0.999999</td>\n",
       "    </tr>\n",
       "    <tr>\n",
       "      <th>10627</th>\n",
       "      <td>Safety 1st High-Def Digital Monitor</td>\n",
       "      <td>I kept debating buying the Philips, but had a ...</td>\n",
       "      <td>5</td>\n",
       "      <td>I kept debating buying the Philips but had a h...</td>\n",
       "      <td>225</td>\n",
       "      <td>1</td>\n",
       "      <td>0.999999</td>\n",
       "      <td>0.999999</td>\n",
       "    </tr>\n",
       "    <tr>\n",
       "      <th>10629</th>\n",
       "      <td>Safety 1st High-Def Digital Monitor</td>\n",
       "      <td>We've had this monitor for almost exactly a ye...</td>\n",
       "      <td>4</td>\n",
       "      <td>Weve had this monitor for almost exactly a yea...</td>\n",
       "      <td>244</td>\n",
       "      <td>1</td>\n",
       "      <td>1.000000</td>\n",
       "      <td>1.000000</td>\n",
       "    </tr>\n",
       "  </tbody>\n",
       "</table>\n",
       "</div>"
      ],
      "text/plain": [
       "                                      name  \\\n",
       "10631  Safety 1st High-Def Digital Monitor   \n",
       "10628  Safety 1st High-Def Digital Monitor   \n",
       "10633  Safety 1st High-Def Digital Monitor   \n",
       "10625  Safety 1st High-Def Digital Monitor   \n",
       "10630  Safety 1st High-Def Digital Monitor   \n",
       "10626  Safety 1st High-Def Digital Monitor   \n",
       "10632  Safety 1st High-Def Digital Monitor   \n",
       "10627  Safety 1st High-Def Digital Monitor   \n",
       "10629  Safety 1st High-Def Digital Monitor   \n",
       "\n",
       "                                                  review  rating  \\\n",
       "10631  We're on our second child with this monitor an...       5   \n",
       "10628  Finally, a baby monitor without static.  This ...       5   \n",
       "10633  I did loads of research on buying this monitor...       5   \n",
       "10625  If you have a house-load of electronic gadgetr...       5   \n",
       "10630  Not everything worked as described in the ad b...       5   \n",
       "10626  First of all, ONE THOUSAND THANKS to the perso...       4   \n",
       "10632  I have 7 kids so I been through A LOT of monit...       5   \n",
       "10627  I kept debating buying the Philips, but had a ...       5   \n",
       "10629  We've had this monitor for almost exactly a ye...       4   \n",
       "\n",
       "                                            review_clean  word_count  \\\n",
       "10631  Were on our second child with this monitor and...         165   \n",
       "10628  Finally a baby monitor without static  This pr...          61   \n",
       "10633  I did loads of research on buying this monitor...          85   \n",
       "10625  If you have a houseload of electronic gadgetry...         318   \n",
       "10630  Not everything worked as described in the ad b...          52   \n",
       "10626  First of all ONE THOUSAND THANKS to the person...         336   \n",
       "10632  I have 7 kids so I been through A LOT of monit...          54   \n",
       "10627  I kept debating buying the Philips but had a h...         225   \n",
       "10629  Weve had this monitor for almost exactly a yea...         244   \n",
       "\n",
       "       sentiment      prob  probability of 1  \n",
       "10631          1  0.983334          0.983334  \n",
       "10628          1  0.989316          0.989316  \n",
       "10633          1  0.995846          0.995846  \n",
       "10625          1  0.999432          0.999432  \n",
       "10630          1  0.999894          0.999894  \n",
       "10626          1  0.999913          0.999913  \n",
       "10632          1  0.999999          0.999999  \n",
       "10627          1  0.999999          0.999999  \n",
       "10629          1  1.000000          1.000000  "
      ]
     },
     "execution_count": 72,
     "metadata": {},
     "output_type": "execute_result"
    }
   ],
   "source": [
    "ptest_data[\"probability of 1\"] = prediction_prob[:,1]\n",
    "df = ptest_data.sort_values(\"prob\")\n",
    "df.loc[df['name'] == 'Safety 1st High-Def Digital Monitor']"
   ]
  },
  {
   "cell_type": "code",
   "execution_count": 27,
   "metadata": {
    "collapsed": false
   },
   "outputs": [
    {
     "data": {
      "text/html": [
       "<div>\n",
       "<table border=\"1\" class=\"dataframe\">\n",
       "  <thead>\n",
       "    <tr style=\"text-align: right;\">\n",
       "      <th></th>\n",
       "      <th>name</th>\n",
       "      <th>review</th>\n",
       "      <th>rating</th>\n",
       "      <th>review_clean</th>\n",
       "      <th>word_count</th>\n",
       "      <th>sentiment</th>\n",
       "      <th>prob</th>\n",
       "    </tr>\n",
       "  </thead>\n",
       "  <tbody>\n",
       "    <tr>\n",
       "      <th>11555</th>\n",
       "      <td>Graco TurboBooster Car Seat  Hearts Delight</td>\n",
       "      <td>My 3  year old was ready for a \"big girl car s...</td>\n",
       "      <td>5</td>\n",
       "      <td>My 3  year old was ready for a big girl car se...</td>\n",
       "      <td>398</td>\n",
       "      <td>1</td>\n",
       "      <td>1</td>\n",
       "    </tr>\n",
       "    <tr>\n",
       "      <th>22254</th>\n",
       "      <td>Baby Jogger 2011 City Mini Double Stroller, Bl...</td>\n",
       "      <td>The wait is over; we have the new 2011 City Mi...</td>\n",
       "      <td>5</td>\n",
       "      <td>The wait is over we have the new 2011 City Min...</td>\n",
       "      <td>544</td>\n",
       "      <td>1</td>\n",
       "      <td>1</td>\n",
       "    </tr>\n",
       "    <tr>\n",
       "      <th>15942</th>\n",
       "      <td>Simple Wishes Hands-Free Breastpump Bra, Pink,...</td>\n",
       "      <td>I just tried this hands free breastpump bra, a...</td>\n",
       "      <td>5</td>\n",
       "      <td>I just tried this hands free breastpump bra an...</td>\n",
       "      <td>424</td>\n",
       "      <td>1</td>\n",
       "      <td>1</td>\n",
       "    </tr>\n",
       "    <tr>\n",
       "      <th>32192</th>\n",
       "      <td>Safety 1st Alpha Omega Elite Convertible 3-in-...</td>\n",
       "      <td>My dad just bought this car seat for me/my son...</td>\n",
       "      <td>5</td>\n",
       "      <td>My dad just bought this car seat for memy son ...</td>\n",
       "      <td>1028</td>\n",
       "      <td>1</td>\n",
       "      <td>1</td>\n",
       "    </tr>\n",
       "    <tr>\n",
       "      <th>30381</th>\n",
       "      <td>UPPAbaby Vista Stroller, Denny</td>\n",
       "      <td>I researched strollers for months and months b...</td>\n",
       "      <td>5</td>\n",
       "      <td>I researched strollers for months and months b...</td>\n",
       "      <td>440</td>\n",
       "      <td>1</td>\n",
       "      <td>1</td>\n",
       "    </tr>\n",
       "    <tr>\n",
       "      <th>19658</th>\n",
       "      <td>Jeep Overland Limited Jogging Stroller with Fr...</td>\n",
       "      <td>OK first off - I want to say that I did a LOT ...</td>\n",
       "      <td>5</td>\n",
       "      <td>OK first off  I want to say that I did a LOT o...</td>\n",
       "      <td>365</td>\n",
       "      <td>1</td>\n",
       "      <td>1</td>\n",
       "    </tr>\n",
       "    <tr>\n",
       "      <th>33364</th>\n",
       "      <td>Britax Pavilion 70-G3 Convertible Car Seat Sea...</td>\n",
       "      <td>We LOVE this seat! As parents to 8 children ra...</td>\n",
       "      <td>5</td>\n",
       "      <td>We LOVE this seat As parents to 8 children ran...</td>\n",
       "      <td>522</td>\n",
       "      <td>1</td>\n",
       "      <td>1</td>\n",
       "    </tr>\n",
       "    <tr>\n",
       "      <th>32439</th>\n",
       "      <td>HALO SleepSack SwaddleChange Diaper Pad Covers...</td>\n",
       "      <td>I love having a new baby in the house, and eve...</td>\n",
       "      <td>5</td>\n",
       "      <td>I love having a new baby in the house and even...</td>\n",
       "      <td>492</td>\n",
       "      <td>1</td>\n",
       "      <td>1</td>\n",
       "    </tr>\n",
       "    <tr>\n",
       "      <th>33391</th>\n",
       "      <td>Inglesina 2013 Trip Stroller, Lampone Purple</td>\n",
       "      <td>I did many hours of research reading reviews a...</td>\n",
       "      <td>5</td>\n",
       "      <td>I did many hours of research reading reviews a...</td>\n",
       "      <td>721</td>\n",
       "      <td>1</td>\n",
       "      <td>1</td>\n",
       "    </tr>\n",
       "    <tr>\n",
       "      <th>10113</th>\n",
       "      <td>Joovy Zoom 360 Swivel Wheel Jogging Stroller, ...</td>\n",
       "      <td>The joovy zoom 360 was the perfect solution fo...</td>\n",
       "      <td>5</td>\n",
       "      <td>The joovy zoom 360 was the perfect solution fo...</td>\n",
       "      <td>867</td>\n",
       "      <td>1</td>\n",
       "      <td>1</td>\n",
       "    </tr>\n",
       "    <tr>\n",
       "      <th>23127</th>\n",
       "      <td>Joovy Scooter Single Stroller Greenie</td>\n",
       "      <td>***I've posted an UPDATE at the end***First, l...</td>\n",
       "      <td>5</td>\n",
       "      <td>Ive posted an UPDATE at the endFirst let me st...</td>\n",
       "      <td>1976</td>\n",
       "      <td>1</td>\n",
       "      <td>1</td>\n",
       "    </tr>\n",
       "    <tr>\n",
       "      <th>35407</th>\n",
       "      <td>Britax B-Agile and B-Safe Travel System, Red</td>\n",
       "      <td>TLDR; Britax is amazing.  Their products are a...</td>\n",
       "      <td>4</td>\n",
       "      <td>TLDR Britax is amazing  Their products are ama...</td>\n",
       "      <td>1054</td>\n",
       "      <td>1</td>\n",
       "      <td>1</td>\n",
       "    </tr>\n",
       "    <tr>\n",
       "      <th>26677</th>\n",
       "      <td>Britax 2012 B-Agile Stroller, Red</td>\n",
       "      <td>[I got this stroller for my daughter prior to ...</td>\n",
       "      <td>4</td>\n",
       "      <td>I got this stroller for my daughter prior to t...</td>\n",
       "      <td>796</td>\n",
       "      <td>1</td>\n",
       "      <td>1</td>\n",
       "    </tr>\n",
       "    <tr>\n",
       "      <th>4348</th>\n",
       "      <td>Joovy Caboose Stand On Tandem Stroller, Black</td>\n",
       "      <td>Ok, I read all the reviews already posted here...</td>\n",
       "      <td>5</td>\n",
       "      <td>Ok I read all the reviews already posted here ...</td>\n",
       "      <td>1192</td>\n",
       "      <td>1</td>\n",
       "      <td>1</td>\n",
       "    </tr>\n",
       "    <tr>\n",
       "      <th>19928</th>\n",
       "      <td>Infantino Wrap and Tie Baby Carrier, Black Blu...</td>\n",
       "      <td>I bought this carrier when my daughter was abo...</td>\n",
       "      <td>5</td>\n",
       "      <td>I bought this carrier when my daughter was abo...</td>\n",
       "      <td>840</td>\n",
       "      <td>1</td>\n",
       "      <td>1</td>\n",
       "    </tr>\n",
       "    <tr>\n",
       "      <th>28802</th>\n",
       "      <td>GroVia Hybrid Hook/Loop Shell Diaper, Surf, On...</td>\n",
       "      <td>Background- I've been using Grovia diapers for...</td>\n",
       "      <td>4</td>\n",
       "      <td>Background Ive been using Grovia diapers for f...</td>\n",
       "      <td>1002</td>\n",
       "      <td>1</td>\n",
       "      <td>1</td>\n",
       "    </tr>\n",
       "    <tr>\n",
       "      <th>25787</th>\n",
       "      <td>Baby Jogger 2011 City Select Stroller in Ameth...</td>\n",
       "      <td>I have the Baby Jogger City Select with Second...</td>\n",
       "      <td>5</td>\n",
       "      <td>I have the Baby Jogger City Select with Second...</td>\n",
       "      <td>1207</td>\n",
       "      <td>1</td>\n",
       "      <td>1</td>\n",
       "    </tr>\n",
       "    <tr>\n",
       "      <th>21649</th>\n",
       "      <td>Britax B-Ready Stroller, Black</td>\n",
       "      <td>Some differences with Uppababy Vs. Britax B-Re...</td>\n",
       "      <td>4</td>\n",
       "      <td>Some differences with Uppababy Vs Britax BRead...</td>\n",
       "      <td>860</td>\n",
       "      <td>1</td>\n",
       "      <td>1</td>\n",
       "    </tr>\n",
       "    <tr>\n",
       "      <th>31589</th>\n",
       "      <td>Ubbi Cloth Diaper Pail Liner</td>\n",
       "      <td>(updated 3.22.13) After extensive research, tr...</td>\n",
       "      <td>5</td>\n",
       "      <td>updated 32213 After extensive research trial a...</td>\n",
       "      <td>2264</td>\n",
       "      <td>1</td>\n",
       "      <td>1</td>\n",
       "    </tr>\n",
       "  </tbody>\n",
       "</table>\n",
       "</div>"
      ],
      "text/plain": [
       "                                                    name  \\\n",
       "11555        Graco TurboBooster Car Seat  Hearts Delight   \n",
       "22254  Baby Jogger 2011 City Mini Double Stroller, Bl...   \n",
       "15942  Simple Wishes Hands-Free Breastpump Bra, Pink,...   \n",
       "32192  Safety 1st Alpha Omega Elite Convertible 3-in-...   \n",
       "30381                     UPPAbaby Vista Stroller, Denny   \n",
       "19658  Jeep Overland Limited Jogging Stroller with Fr...   \n",
       "33364  Britax Pavilion 70-G3 Convertible Car Seat Sea...   \n",
       "32439  HALO SleepSack SwaddleChange Diaper Pad Covers...   \n",
       "33391       Inglesina 2013 Trip Stroller, Lampone Purple   \n",
       "10113  Joovy Zoom 360 Swivel Wheel Jogging Stroller, ...   \n",
       "23127              Joovy Scooter Single Stroller Greenie   \n",
       "35407       Britax B-Agile and B-Safe Travel System, Red   \n",
       "26677                  Britax 2012 B-Agile Stroller, Red   \n",
       "4348       Joovy Caboose Stand On Tandem Stroller, Black   \n",
       "19928  Infantino Wrap and Tie Baby Carrier, Black Blu...   \n",
       "28802  GroVia Hybrid Hook/Loop Shell Diaper, Surf, On...   \n",
       "25787  Baby Jogger 2011 City Select Stroller in Ameth...   \n",
       "21649                     Britax B-Ready Stroller, Black   \n",
       "31589                       Ubbi Cloth Diaper Pail Liner   \n",
       "\n",
       "                                                  review  rating  \\\n",
       "11555  My 3  year old was ready for a \"big girl car s...       5   \n",
       "22254  The wait is over; we have the new 2011 City Mi...       5   \n",
       "15942  I just tried this hands free breastpump bra, a...       5   \n",
       "32192  My dad just bought this car seat for me/my son...       5   \n",
       "30381  I researched strollers for months and months b...       5   \n",
       "19658  OK first off - I want to say that I did a LOT ...       5   \n",
       "33364  We LOVE this seat! As parents to 8 children ra...       5   \n",
       "32439  I love having a new baby in the house, and eve...       5   \n",
       "33391  I did many hours of research reading reviews a...       5   \n",
       "10113  The joovy zoom 360 was the perfect solution fo...       5   \n",
       "23127  ***I've posted an UPDATE at the end***First, l...       5   \n",
       "35407  TLDR; Britax is amazing.  Their products are a...       4   \n",
       "26677  [I got this stroller for my daughter prior to ...       4   \n",
       "4348   Ok, I read all the reviews already posted here...       5   \n",
       "19928  I bought this carrier when my daughter was abo...       5   \n",
       "28802  Background- I've been using Grovia diapers for...       4   \n",
       "25787  I have the Baby Jogger City Select with Second...       5   \n",
       "21649  Some differences with Uppababy Vs. Britax B-Re...       4   \n",
       "31589  (updated 3.22.13) After extensive research, tr...       5   \n",
       "\n",
       "                                            review_clean  word_count  \\\n",
       "11555  My 3  year old was ready for a big girl car se...         398   \n",
       "22254  The wait is over we have the new 2011 City Min...         544   \n",
       "15942  I just tried this hands free breastpump bra an...         424   \n",
       "32192  My dad just bought this car seat for memy son ...        1028   \n",
       "30381  I researched strollers for months and months b...         440   \n",
       "19658  OK first off  I want to say that I did a LOT o...         365   \n",
       "33364  We LOVE this seat As parents to 8 children ran...         522   \n",
       "32439  I love having a new baby in the house and even...         492   \n",
       "33391  I did many hours of research reading reviews a...         721   \n",
       "10113  The joovy zoom 360 was the perfect solution fo...         867   \n",
       "23127  Ive posted an UPDATE at the endFirst let me st...        1976   \n",
       "35407  TLDR Britax is amazing  Their products are ama...        1054   \n",
       "26677  I got this stroller for my daughter prior to t...         796   \n",
       "4348   Ok I read all the reviews already posted here ...        1192   \n",
       "19928  I bought this carrier when my daughter was abo...         840   \n",
       "28802  Background Ive been using Grovia diapers for f...        1002   \n",
       "25787  I have the Baby Jogger City Select with Second...        1207   \n",
       "21649  Some differences with Uppababy Vs Britax BRead...         860   \n",
       "31589  updated 32213 After extensive research trial a...        2264   \n",
       "\n",
       "       sentiment  prob  \n",
       "11555          1     1  \n",
       "22254          1     1  \n",
       "15942          1     1  \n",
       "32192          1     1  \n",
       "30381          1     1  \n",
       "19658          1     1  \n",
       "33364          1     1  \n",
       "32439          1     1  \n",
       "33391          1     1  \n",
       "10113          1     1  \n",
       "23127          1     1  \n",
       "35407          1     1  \n",
       "26677          1     1  \n",
       "4348           1     1  \n",
       "19928          1     1  \n",
       "28802          1     1  \n",
       "25787          1     1  \n",
       "21649          1     1  \n",
       "31589          1     1  "
      ]
     },
     "execution_count": 27,
     "metadata": {},
     "output_type": "execute_result"
    }
   ],
   "source": [
    "df.iloc[-20:-1,:]"
   ]
  },
  {
   "cell_type": "markdown",
   "metadata": {
    "collapsed": true
   },
   "source": [
    "**Quiz Question**: Which of the following products are represented in the 20 most negative reviews?  [multiple choice]"
   ]
  },
  {
   "cell_type": "code",
   "execution_count": 93,
   "metadata": {
    "collapsed": false
   },
   "outputs": [
    {
     "data": {
      "text/html": [
       "<div>\n",
       "<table border=\"1\" class=\"dataframe\">\n",
       "  <thead>\n",
       "    <tr style=\"text-align: right;\">\n",
       "      <th></th>\n",
       "      <th>name</th>\n",
       "      <th>review</th>\n",
       "      <th>rating</th>\n",
       "      <th>review_clean</th>\n",
       "      <th>word_count</th>\n",
       "      <th>sentiment</th>\n",
       "      <th>prob</th>\n",
       "    </tr>\n",
       "  </thead>\n",
       "  <tbody>\n",
       "    <tr>\n",
       "      <th>8149</th>\n",
       "      <td>Arms Reach Co-Sleeper brand Mini Co-Sleeper Ba...</td>\n",
       "      <td>Please see my email to the company:Hello,I am ...</td>\n",
       "      <td>1</td>\n",
       "      <td>Please see my email to the companyHelloI am wr...</td>\n",
       "      <td>664</td>\n",
       "      <td>-1</td>\n",
       "      <td>2.713049e-19</td>\n",
       "    </tr>\n",
       "    <tr>\n",
       "      <th>140125</th>\n",
       "      <td>Zooper Twist Escape Stroller, Summer Day</td>\n",
       "      <td>I had to return this stroller for three reason...</td>\n",
       "      <td>1</td>\n",
       "      <td>I had to return this stroller for three reason...</td>\n",
       "      <td>739</td>\n",
       "      <td>-1</td>\n",
       "      <td>7.472102e-18</td>\n",
       "    </tr>\n",
       "    <tr>\n",
       "      <th>12830</th>\n",
       "      <td>Fisher-Price Ocean Wonders Aquarium Bouncer</td>\n",
       "      <td>We have not had ANY luck with Fisher-Price pro...</td>\n",
       "      <td>2</td>\n",
       "      <td>We have not had ANY luck with FisherPrice prod...</td>\n",
       "      <td>332</td>\n",
       "      <td>-1</td>\n",
       "      <td>1.964194e-16</td>\n",
       "    </tr>\n",
       "    <tr>\n",
       "      <th>142681</th>\n",
       "      <td>iPad Travel Case</td>\n",
       "      <td>I have rated and left reviews for many items o...</td>\n",
       "      <td>1</td>\n",
       "      <td>I have rated and left reviews for many items o...</td>\n",
       "      <td>669</td>\n",
       "      <td>-1</td>\n",
       "      <td>2.815916e-16</td>\n",
       "    </tr>\n",
       "    <tr>\n",
       "      <th>106687</th>\n",
       "      <td>Summer Infant Sleek and Secure Hand Held Video...</td>\n",
       "      <td>The first monitor broke within 1 month of use-...</td>\n",
       "      <td>1</td>\n",
       "      <td>The first monitor broke within 1 month of use ...</td>\n",
       "      <td>326</td>\n",
       "      <td>-1</td>\n",
       "      <td>3.985644e-16</td>\n",
       "    </tr>\n",
       "    <tr>\n",
       "      <th>72039</th>\n",
       "      <td>Peg-Perego Aria Twin Stroller, Java</td>\n",
       "      <td>I am so incredibly disappointed with the strol...</td>\n",
       "      <td>1</td>\n",
       "      <td>I am so incredibly disappointed with the strol...</td>\n",
       "      <td>487</td>\n",
       "      <td>-1</td>\n",
       "      <td>1.052162e-15</td>\n",
       "    </tr>\n",
       "    <tr>\n",
       "      <th>96193</th>\n",
       "      <td>Levana Safe N'See Digital Video Baby Monitor w...</td>\n",
       "      <td>I have NEVER written a review before for anyth...</td>\n",
       "      <td>1</td>\n",
       "      <td>I have NEVER written a review before for anyth...</td>\n",
       "      <td>949</td>\n",
       "      <td>-1</td>\n",
       "      <td>2.145774e-15</td>\n",
       "    </tr>\n",
       "    <tr>\n",
       "      <th>45827</th>\n",
       "      <td>Dream On Me Bassinet, Blue</td>\n",
       "      <td>My husband and I are VERY disappointed and sho...</td>\n",
       "      <td>1</td>\n",
       "      <td>My husband and I are VERY disappointed and sho...</td>\n",
       "      <td>600</td>\n",
       "      <td>-1</td>\n",
       "      <td>2.839424e-15</td>\n",
       "    </tr>\n",
       "    <tr>\n",
       "      <th>74152</th>\n",
       "      <td>Munchkin Arm and Hammer Diaper Pail, White</td>\n",
       "      <td>I would recommend in the strongest possible wa...</td>\n",
       "      <td>1</td>\n",
       "      <td>I would recommend in the strongest possible wa...</td>\n",
       "      <td>944</td>\n",
       "      <td>-1</td>\n",
       "      <td>3.030360e-15</td>\n",
       "    </tr>\n",
       "    <tr>\n",
       "      <th>32209</th>\n",
       "      <td>Ameda Purely Yours Breast Pump - Carry All</td>\n",
       "      <td>I received this pump through insurance, and I ...</td>\n",
       "      <td>1</td>\n",
       "      <td>I received this pump through insurance and I f...</td>\n",
       "      <td>537</td>\n",
       "      <td>-1</td>\n",
       "      <td>1.499337e-14</td>\n",
       "    </tr>\n",
       "    <tr>\n",
       "      <th>136550</th>\n",
       "      <td>Kinderwagon BLACK Hop Double Child Stroller w/...</td>\n",
       "      <td>This is the worst stroller you can get and it'...</td>\n",
       "      <td>1</td>\n",
       "      <td>This is the worst stroller you can get and its...</td>\n",
       "      <td>437</td>\n",
       "      <td>-1</td>\n",
       "      <td>2.042240e-14</td>\n",
       "    </tr>\n",
       "    <tr>\n",
       "      <th>38983</th>\n",
       "      <td>Adiri BPA Free Natural Nurser Ultimate Bottle ...</td>\n",
       "      <td>I will try to write an objective review of the...</td>\n",
       "      <td>2</td>\n",
       "      <td>I will try to write an objective review of the...</td>\n",
       "      <td>906</td>\n",
       "      <td>-1</td>\n",
       "      <td>4.491723e-14</td>\n",
       "    </tr>\n",
       "    <tr>\n",
       "      <th>96183</th>\n",
       "      <td>Levana Safe N'See Digital Video Baby Monitor w...</td>\n",
       "      <td>This is the first review I have ever written o...</td>\n",
       "      <td>1</td>\n",
       "      <td>This is the first review I have ever written o...</td>\n",
       "      <td>446</td>\n",
       "      <td>-1</td>\n",
       "      <td>7.198054e-14</td>\n",
       "    </tr>\n",
       "    <tr>\n",
       "      <th>61725</th>\n",
       "      <td>Safety 1st Exchangeable Tip 3 in 1 Thermometer</td>\n",
       "      <td>I thought it sounded great to have different t...</td>\n",
       "      <td>1</td>\n",
       "      <td>I thought it sounded great to have different t...</td>\n",
       "      <td>364</td>\n",
       "      <td>-1</td>\n",
       "      <td>9.427745e-14</td>\n",
       "    </tr>\n",
       "    <tr>\n",
       "      <th>72041</th>\n",
       "      <td>Peg-Perego Aria Twin Stroller, Java</td>\n",
       "      <td>ahhhh where do I begin.  I had such high hopes...</td>\n",
       "      <td>1</td>\n",
       "      <td>ahhhh where do I begin  I had such high hopes ...</td>\n",
       "      <td>1096</td>\n",
       "      <td>-1</td>\n",
       "      <td>9.907789e-14</td>\n",
       "    </tr>\n",
       "    <tr>\n",
       "      <th>64430</th>\n",
       "      <td>ChildMinder&amp;reg; Infant Smart Pad Safety Seat ...</td>\n",
       "      <td>Unfortunately, the ChildMinder Smart Pad Safet...</td>\n",
       "      <td>1</td>\n",
       "      <td>Unfortunately the ChildMinder Smart Pad Safety...</td>\n",
       "      <td>193</td>\n",
       "      <td>-1</td>\n",
       "      <td>1.117102e-13</td>\n",
       "    </tr>\n",
       "    <tr>\n",
       "      <th>97415</th>\n",
       "      <td>The First Years Home and Away Portable Video M...</td>\n",
       "      <td>With modern technology, I really can't believe...</td>\n",
       "      <td>1</td>\n",
       "      <td>With modern technology I really cant believe w...</td>\n",
       "      <td>566</td>\n",
       "      <td>-1</td>\n",
       "      <td>2.377776e-13</td>\n",
       "    </tr>\n",
       "    <tr>\n",
       "      <th>47533</th>\n",
       "      <td>Evenflo Majestic High Chair</td>\n",
       "      <td>I am not one to write a review, but the Evenfl...</td>\n",
       "      <td>1</td>\n",
       "      <td>I am not one to write a review but the Evenflo...</td>\n",
       "      <td>374</td>\n",
       "      <td>-1</td>\n",
       "      <td>3.863952e-13</td>\n",
       "    </tr>\n",
       "    <tr>\n",
       "      <th>53116</th>\n",
       "      <td>Levana BABYVIEW20 Interference Free Digital Wi...</td>\n",
       "      <td>where do i even begin? this baby monitor is no...</td>\n",
       "      <td>1</td>\n",
       "      <td>where do i even begin this baby monitor is not...</td>\n",
       "      <td>308</td>\n",
       "      <td>-1</td>\n",
       "      <td>3.990392e-13</td>\n",
       "    </tr>\n",
       "  </tbody>\n",
       "</table>\n",
       "</div>"
      ],
      "text/plain": [
       "                                                     name  \\\n",
       "8149    Arms Reach Co-Sleeper brand Mini Co-Sleeper Ba...   \n",
       "140125           Zooper Twist Escape Stroller, Summer Day   \n",
       "12830         Fisher-Price Ocean Wonders Aquarium Bouncer   \n",
       "142681                                   iPad Travel Case   \n",
       "106687  Summer Infant Sleek and Secure Hand Held Video...   \n",
       "72039                 Peg-Perego Aria Twin Stroller, Java   \n",
       "96193   Levana Safe N'See Digital Video Baby Monitor w...   \n",
       "45827                          Dream On Me Bassinet, Blue   \n",
       "74152          Munchkin Arm and Hammer Diaper Pail, White   \n",
       "32209          Ameda Purely Yours Breast Pump - Carry All   \n",
       "136550  Kinderwagon BLACK Hop Double Child Stroller w/...   \n",
       "38983   Adiri BPA Free Natural Nurser Ultimate Bottle ...   \n",
       "96183   Levana Safe N'See Digital Video Baby Monitor w...   \n",
       "61725      Safety 1st Exchangeable Tip 3 in 1 Thermometer   \n",
       "72041                 Peg-Perego Aria Twin Stroller, Java   \n",
       "64430   ChildMinder&reg; Infant Smart Pad Safety Seat ...   \n",
       "97415   The First Years Home and Away Portable Video M...   \n",
       "47533                         Evenflo Majestic High Chair   \n",
       "53116   Levana BABYVIEW20 Interference Free Digital Wi...   \n",
       "\n",
       "                                                   review  rating  \\\n",
       "8149    Please see my email to the company:Hello,I am ...       1   \n",
       "140125  I had to return this stroller for three reason...       1   \n",
       "12830   We have not had ANY luck with Fisher-Price pro...       2   \n",
       "142681  I have rated and left reviews for many items o...       1   \n",
       "106687  The first monitor broke within 1 month of use-...       1   \n",
       "72039   I am so incredibly disappointed with the strol...       1   \n",
       "96193   I have NEVER written a review before for anyth...       1   \n",
       "45827   My husband and I are VERY disappointed and sho...       1   \n",
       "74152   I would recommend in the strongest possible wa...       1   \n",
       "32209   I received this pump through insurance, and I ...       1   \n",
       "136550  This is the worst stroller you can get and it'...       1   \n",
       "38983   I will try to write an objective review of the...       2   \n",
       "96183   This is the first review I have ever written o...       1   \n",
       "61725   I thought it sounded great to have different t...       1   \n",
       "72041   ahhhh where do I begin.  I had such high hopes...       1   \n",
       "64430   Unfortunately, the ChildMinder Smart Pad Safet...       1   \n",
       "97415   With modern technology, I really can't believe...       1   \n",
       "47533   I am not one to write a review, but the Evenfl...       1   \n",
       "53116   where do i even begin? this baby monitor is no...       1   \n",
       "\n",
       "                                             review_clean  word_count  \\\n",
       "8149    Please see my email to the companyHelloI am wr...         664   \n",
       "140125  I had to return this stroller for three reason...         739   \n",
       "12830   We have not had ANY luck with FisherPrice prod...         332   \n",
       "142681  I have rated and left reviews for many items o...         669   \n",
       "106687  The first monitor broke within 1 month of use ...         326   \n",
       "72039   I am so incredibly disappointed with the strol...         487   \n",
       "96193   I have NEVER written a review before for anyth...         949   \n",
       "45827   My husband and I are VERY disappointed and sho...         600   \n",
       "74152   I would recommend in the strongest possible wa...         944   \n",
       "32209   I received this pump through insurance and I f...         537   \n",
       "136550  This is the worst stroller you can get and its...         437   \n",
       "38983   I will try to write an objective review of the...         906   \n",
       "96183   This is the first review I have ever written o...         446   \n",
       "61725   I thought it sounded great to have different t...         364   \n",
       "72041   ahhhh where do I begin  I had such high hopes ...        1096   \n",
       "64430   Unfortunately the ChildMinder Smart Pad Safety...         193   \n",
       "97415   With modern technology I really cant believe w...         566   \n",
       "47533   I am not one to write a review but the Evenflo...         374   \n",
       "53116   where do i even begin this baby monitor is not...         308   \n",
       "\n",
       "        sentiment          prob  \n",
       "8149           -1  2.713049e-19  \n",
       "140125         -1  7.472102e-18  \n",
       "12830          -1  1.964194e-16  \n",
       "142681         -1  2.815916e-16  \n",
       "106687         -1  3.985644e-16  \n",
       "72039          -1  1.052162e-15  \n",
       "96193          -1  2.145774e-15  \n",
       "45827          -1  2.839424e-15  \n",
       "74152          -1  3.030360e-15  \n",
       "32209          -1  1.499337e-14  \n",
       "136550         -1  2.042240e-14  \n",
       "38983          -1  4.491723e-14  \n",
       "96183          -1  7.198054e-14  \n",
       "61725          -1  9.427745e-14  \n",
       "72041          -1  9.907789e-14  \n",
       "64430          -1  1.117102e-13  \n",
       "97415          -1  2.377776e-13  \n",
       "47533          -1  3.863952e-13  \n",
       "53116          -1  3.990392e-13  "
      ]
     },
     "execution_count": 93,
     "metadata": {},
     "output_type": "execute_result"
    }
   ],
   "source": [
    "df.iloc[1:20,:]"
   ]
  },
  {
   "cell_type": "markdown",
   "metadata": {},
   "source": [
    "## Compute accuracy of the classifier\n",
    "\n",
    "We will now evaluate the accuracy of the trained classifer. Recall that the accuracy is given by\n",
    "\n",
    "\n",
    "$$\n",
    "\\mbox{accuracy} = \\frac{\\mbox{# correctly classified examples}}{\\mbox{# total examples}}\n",
    "$$\n",
    "\n",
    "This can be computed as follows:\n",
    "\n",
    "* **Step 1:** Use the trained model to compute class predictions (**Hint:** Use the `predict` method)\n",
    "* **Step 2:** Count the number of data points when the predicted class labels match the ground truth labels (called `true_labels` below).\n",
    "* **Step 3:** Divide the total number of correct predictions by the total number of data points in the dataset.\n",
    "\n",
    "Complete the function below to compute the classification accuracy:"
   ]
  },
  {
   "cell_type": "code",
   "execution_count": 60,
   "metadata": {
    "collapsed": true,
    "scrolled": true
   },
   "outputs": [],
   "source": [
    "def get_classification_accuracy(model, data, true_labels, vectorizer):\n",
    "    # First get the predictions\n",
    "    data_matrix = vectorizer.transform(data['review_clean'])\n",
    "    predictions = model.predict(data_matrix)\n",
    "    \n",
    "    # Compute the number of correctly classified examples\n",
    "    ## YOUR CODE HERE\n",
    "    correct = (predictions == true_labels).sum()\n",
    "\n",
    "    # Then compute accuracy by dividing num_correct by total number of examples\n",
    "    ## YOUR CODE HERE\n",
    "    accuracy = correct / len(true_labels)\n",
    "    \n",
    "    return accuracy"
   ]
  },
  {
   "cell_type": "markdown",
   "metadata": {},
   "source": [
    "Now, let's compute the classification accuracy of the **sentiment_model** on the **test_data**."
   ]
  },
  {
   "cell_type": "code",
   "execution_count": 61,
   "metadata": {
    "collapsed": false
   },
   "outputs": [
    {
     "data": {
      "text/plain": [
       "0.93328140447586805"
      ]
     },
     "execution_count": 61,
     "metadata": {},
     "output_type": "execute_result"
    }
   ],
   "source": [
    "get_classification_accuracy(sentiment_model, ptest_data, ptest_data['sentiment'], vectorizer)"
   ]
  },
  {
   "cell_type": "markdown",
   "metadata": {},
   "source": [
    "**Quiz Question**: What is the accuracy of the **sentiment_model** on the **test_data**? Round your answer to 2 decimal places (e.g. 0.76).\n",
    "\n",
    "**Quiz Question**: Does a higher accuracy value on the **training_data** always imply that the classifier is better?"
   ]
  },
  {
   "cell_type": "markdown",
   "metadata": {},
   "source": [
    "## Learn another classifier with fewer words\n",
    "\n",
    "There were a lot of words in the model we trained above. We will now train a simpler logistic regression model using only a subet of words that occur in the reviews. For this assignment, we selected a 20 words to work with. These are:"
   ]
  },
  {
   "cell_type": "code",
   "execution_count": 102,
   "metadata": {
    "collapsed": true
   },
   "outputs": [],
   "source": [
    "significant_words = ['love', 'great', 'easy', 'old', 'little', 'perfect', 'loves', \n",
    "      'well', 'able', 'car', 'broke', 'less', 'even', 'waste', 'disappointed', \n",
    "      'work', 'product', 'money', 'would', 'return']"
   ]
  },
  {
   "cell_type": "code",
   "execution_count": 103,
   "metadata": {
    "collapsed": false
   },
   "outputs": [
    {
     "data": {
      "text/plain": [
       "20"
      ]
     },
     "execution_count": 103,
     "metadata": {},
     "output_type": "execute_result"
    }
   ],
   "source": [
    "len(significant_words)"
   ]
  },
  {
   "cell_type": "markdown",
   "metadata": {},
   "source": [
    "For each review, we will use the **word_count** column and trim out all words that are **not** in the **significant_words** list above. We will use the [SArray dictionary trim by keys functionality]( https://dato.com/products/create/docs/generated/graphlab.SArray.dict_trim_by_keys.html). Note that we are performing this on both the training and test set."
   ]
  },
  {
   "cell_type": "code",
   "execution_count": 104,
   "metadata": {
    "collapsed": true
   },
   "outputs": [],
   "source": [
    "vectorizer_word_subset = CountVectorizer(vocabulary=significant_words) # limit to 20 words\n",
    "train_matrix_word_subset = vectorizer_word_subset.fit_transform(ptrain_data['review_clean'])\n",
    "test_matrix_word_subset = vectorizer_word_subset.transform(ptest_data['review_clean'])"
   ]
  },
  {
   "cell_type": "code",
   "execution_count": null,
   "metadata": {
    "collapsed": false
   },
   "outputs": [],
   "source": [
    "train_data['word_count_subset'] = train_data['word_count'].dict_trim_by_keys(significant_words, exclude=False)\n",
    "test_data['word_count_subset'] = test_data['word_count'].dict_trim_by_keys(significant_words, exclude=False)"
   ]
  },
  {
   "cell_type": "markdown",
   "metadata": {},
   "source": [
    "Let's see what the first example of the dataset looks like:"
   ]
  },
  {
   "cell_type": "code",
   "execution_count": null,
   "metadata": {
    "collapsed": false
   },
   "outputs": [],
   "source": [
    "train_data[0]['review']"
   ]
  },
  {
   "cell_type": "markdown",
   "metadata": {},
   "source": [
    "The **word_count** column had been working with before looks like the following:"
   ]
  },
  {
   "cell_type": "code",
   "execution_count": null,
   "metadata": {
    "collapsed": false
   },
   "outputs": [],
   "source": [
    "print train_data[0]['word_count']"
   ]
  },
  {
   "cell_type": "markdown",
   "metadata": {},
   "source": [
    "Since we are only working with a subet of these words, the column **word_count_subset** is a subset of the above dictionary. In this example, only 2 `significant words` are present in this review."
   ]
  },
  {
   "cell_type": "code",
   "execution_count": null,
   "metadata": {
    "collapsed": false
   },
   "outputs": [],
   "source": [
    "print train_data[0]['word_count_subset']"
   ]
  },
  {
   "cell_type": "markdown",
   "metadata": {},
   "source": [
    "## Train a logistic regression model on a subset of data"
   ]
  },
  {
   "cell_type": "markdown",
   "metadata": {},
   "source": [
    "We will now build a classifier with **word_count_subset** as the feature and **sentiment** as the target. "
   ]
  },
  {
   "cell_type": "code",
   "execution_count": null,
   "metadata": {
    "collapsed": false
   },
   "outputs": [],
   "source": [
    "simple_model = graphlab.logistic_classifier.create(train_data,\n",
    "                                                   target = 'sentiment',\n",
    "                                                   features=['word_count_subset'],\n",
    "                                                   validation_set=None)\n",
    "simple_model"
   ]
  },
  {
   "cell_type": "code",
   "execution_count": 106,
   "metadata": {
    "collapsed": false
   },
   "outputs": [
    {
     "data": {
      "text/plain": [
       "LogisticRegression(C=1.0, class_weight=None, dual=False, fit_intercept=True,\n",
       "          intercept_scaling=1, max_iter=100, multi_class='ovr', n_jobs=1,\n",
       "          penalty='l2', random_state=None, solver='liblinear', tol=0.0001,\n",
       "          verbose=0, warm_start=False)"
      ]
     },
     "execution_count": 106,
     "metadata": {},
     "output_type": "execute_result"
    }
   ],
   "source": [
    "simple_model = linear_model.LogisticRegression()\n",
    "simple_model.fit(train_matrix_word_subset, ptrain_data['sentiment'])"
   ]
  },
  {
   "cell_type": "markdown",
   "metadata": {},
   "source": [
    "We can compute the classification accuracy using the `get_classification_accuracy` function you implemented earlier."
   ]
  },
  {
   "cell_type": "code",
   "execution_count": 111,
   "metadata": {
    "collapsed": false
   },
   "outputs": [
    {
     "data": {
      "text/plain": [
       "0.86644973120496649"
      ]
     },
     "execution_count": 111,
     "metadata": {},
     "output_type": "execute_result"
    }
   ],
   "source": [
    "get_classification_accuracy(simple_model, ptest_data, ptest_data['sentiment'], vectorizer_word_subset)"
   ]
  },
  {
   "cell_type": "markdown",
   "metadata": {},
   "source": [
    "Now, we will inspect the weights (coefficients) of the **simple_model**:"
   ]
  },
  {
   "cell_type": "code",
   "execution_count": 112,
   "metadata": {
    "collapsed": false
   },
   "outputs": [
    {
     "data": {
      "text/plain": [
       "array([[ 1.35896589,  0.93923446,  1.19655912,  0.11165472,  0.49885179,\n",
       "         1.50539082,  1.76861089,  0.49588147,  0.19023108,  0.08167841,\n",
       "        -1.70365555, -0.17342471, -0.5285127 , -2.00713727, -2.36498172,\n",
       "        -0.64421402, -0.3064419 , -0.90550464, -0.33775057, -2.04464581]])"
      ]
     },
     "execution_count": 112,
     "metadata": {},
     "output_type": "execute_result"
    }
   ],
   "source": [
    "simple_model.coef_"
   ]
  },
  {
   "cell_type": "code",
   "execution_count": 114,
   "metadata": {
    "collapsed": false
   },
   "outputs": [
    {
     "data": {
      "text/plain": [
       "20"
      ]
     },
     "execution_count": 114,
     "metadata": {},
     "output_type": "execute_result"
    }
   ],
   "source": [
    "len(simple_model.coef_[0])"
   ]
  },
  {
   "cell_type": "markdown",
   "metadata": {},
   "source": [
    "Let's sort the coefficients (in descending order) by the **value** to obtain the coefficients with the most positive effect on the sentiment."
   ]
  },
  {
   "cell_type": "code",
   "execution_count": null,
   "metadata": {
    "collapsed": false
   },
   "outputs": [],
   "source": [
    "simple_model.coefficients.sort('value', ascending=False).print_rows(num_rows=21)"
   ]
  },
  {
   "cell_type": "code",
   "execution_count": 121,
   "metadata": {
    "collapsed": false
   },
   "outputs": [],
   "source": [
    "from operator import itemgetter\n",
    "simple_coef = sorted(zip(significant_words,simple_model.coef_[0]), key=itemgetter(1))"
   ]
  },
  {
   "cell_type": "markdown",
   "metadata": {},
   "source": [
    "**Quiz Question**: Consider the coefficients of **simple_model**. There should be 21 of them, an intercept term + one for each word in **significant_words**. How many of the 20 coefficients (corresponding to the 20 **significant_words** and *excluding the intercept term*) are positive for the `simple_model`?"
   ]
  },
  {
   "cell_type": "code",
   "execution_count": 153,
   "metadata": {
    "collapsed": false
   },
   "outputs": [
    {
     "name": "stdout",
     "output_type": "stream",
     "text": [
      "['car', 'old', 'able', 'well', 'little', 'great', 'easy', 'love', 'perfect', 'loves']\n"
     ]
    }
   ],
   "source": [
    "positive_simple_coef = [coef[0] for coef in simple_coef if coef[1] > 0]\n",
    "print positive_simple_coef"
   ]
  },
  {
   "cell_type": "markdown",
   "metadata": {},
   "source": [
    "**Quiz Question**: Are the positive words in the **simple_model** (let us call them `positive_significant_words`) also positive words in the **sentiment_model**?"
   ]
  },
  {
   "cell_type": "code",
   "execution_count": 135,
   "metadata": {
    "collapsed": false
   },
   "outputs": [
    {
     "name": "stdout",
     "output_type": "stream",
     "text": [
      "121338\n",
      "121338\n"
     ]
    }
   ],
   "source": [
    "print len(sentiment_model.coef_[0])\n",
    "print len(vectorizer.get_feature_names())"
   ]
  },
  {
   "cell_type": "code",
   "execution_count": 163,
   "metadata": {
    "collapsed": false
   },
   "outputs": [
    {
     "data": {
      "text/plain": [
       "[(u'old', 0.062436363584517936),\n",
       " (u'car', 0.24415155935549493),\n",
       " (u'able', 0.31442240463067217),\n",
       " (u'well', 0.51208646317478412),\n",
       " (u'little', 0.59400847730078488),\n",
       " (u'great', 1.2475222485947519),\n",
       " (u'easy', 1.3899925635865233),\n",
       " (u'love', 1.5827552961036522),\n",
       " (u'loves', 1.6960665642240296),\n",
       " (u'perfect', 1.8874970355481746)]"
      ]
     },
     "execution_count": 163,
     "metadata": {},
     "output_type": "execute_result"
    }
   ],
   "source": [
    "full_coef = sorted(zip(vectorizer.get_feature_names(), sentiment_model.coef_[0]), key=itemgetter(1))\n",
    "\n",
    "[coef for coef in full_coef if coef[0] in positive_simple_coef]\n"
   ]
  },
  {
   "cell_type": "code",
   "execution_count": 164,
   "metadata": {
    "collapsed": false
   },
   "outputs": [
    {
     "name": "stdout",
     "output_type": "stream",
     "text": [
      "[(u'awesome', 1.7390630398885076), (u'highly', 1.7402229302256043), (u'perfectly', 1.7737692209709846), (u'sooner', 1.7754312750830783), (u'minor', 1.8112541864880409), (u'skeptical', 1.8113553276622709), (u'girly', 1.8331591576905182), (u'exactly', 1.8520758492363809), (u'outstanding', 1.8534650924155314), (u'pleasantly', 1.8751627161784072), (u'perfect', 1.8874970355481746), (u'saves', 1.8978278064174068), (u'complain', 1.9038613517663852), (u'worry', 2.0020770183154046), (u'penny', 2.0253084180079539), (u'con', 2.0349460725553565), (u'thankful', 2.0673163846498879), (u'lifesaver', 2.1107958844352721), (u'rich', 2.1111695514879614)]\n"
     ]
    }
   ],
   "source": [
    "print full_coef[-20:-1]"
   ]
  },
  {
   "cell_type": "markdown",
   "metadata": {},
   "source": [
    "# Comparing models"
   ]
  },
  {
   "cell_type": "markdown",
   "metadata": {},
   "source": [
    "We will now compare the accuracy of the **sentiment_model** and the **simple_model** using the `get_classification_accuracy` method you implemented above.\n",
    "\n",
    "First, compute the classification accuracy of the **sentiment_model** on the **train_data**:"
   ]
  },
  {
   "cell_type": "code",
   "execution_count": 165,
   "metadata": {
    "collapsed": false
   },
   "outputs": [
    {
     "data": {
      "text/plain": [
       "0.96903421232183429"
      ]
     },
     "execution_count": 165,
     "metadata": {},
     "output_type": "execute_result"
    }
   ],
   "source": [
    "get_classification_accuracy(sentiment_model, ptrain_data, ptrain_data['sentiment'], vectorizer)"
   ]
  },
  {
   "cell_type": "markdown",
   "metadata": {},
   "source": [
    "Now, compute the classification accuracy of the **simple_model** on the **train_data**:"
   ]
  },
  {
   "cell_type": "code",
   "execution_count": 166,
   "metadata": {
    "collapsed": false
   },
   "outputs": [
    {
     "data": {
      "text/plain": [
       "0.86644973120496649"
      ]
     },
     "execution_count": 166,
     "metadata": {},
     "output_type": "execute_result"
    }
   ],
   "source": [
    "get_classification_accuracy(simple_model, ptrain_data, ptrain_data['sentiment'], vectorizer_word_subset)"
   ]
  },
  {
   "cell_type": "markdown",
   "metadata": {},
   "source": [
    "**Quiz Question**: Which model (**sentiment_model** or **simple_model**) has higher accuracy on the TRAINING set?"
   ]
  },
  {
   "cell_type": "markdown",
   "metadata": {},
   "source": [
    "Now, we will repeat this excercise on the **test_data**. Start by computing the classification accuracy of the **sentiment_model** on the **test_data**:"
   ]
  },
  {
   "cell_type": "code",
   "execution_count": 170,
   "metadata": {
    "collapsed": false
   },
   "outputs": [
    {
     "data": {
      "text/plain": [
       "0.93328140447586805"
      ]
     },
     "execution_count": 170,
     "metadata": {},
     "output_type": "execute_result"
    }
   ],
   "source": [
    "get_classification_accuracy(sentiment_model, ptest_data, ptest_data['sentiment'], vectorizer)"
   ]
  },
  {
   "cell_type": "markdown",
   "metadata": {},
   "source": [
    "Next, we will compute the classification accuracy of the **simple_model** on the **test_data**:"
   ]
  },
  {
   "cell_type": "code",
   "execution_count": 171,
   "metadata": {
    "collapsed": false
   },
   "outputs": [
    {
     "data": {
      "text/plain": [
       "0.87066718595524129"
      ]
     },
     "execution_count": 171,
     "metadata": {},
     "output_type": "execute_result"
    }
   ],
   "source": [
    "get_classification_accuracy(simple_model, ptest_data, ptest_data['sentiment'], vectorizer_word_subset)"
   ]
  },
  {
   "cell_type": "markdown",
   "metadata": {},
   "source": [
    "**Quiz Question**: Which model (**sentiment_model** or **simple_model**) has higher accuracy on the TEST set?"
   ]
  },
  {
   "cell_type": "markdown",
   "metadata": {},
   "source": [
    "## Baseline: Majority class prediction\n",
    "\n",
    "It is quite common to use the **majority class classifier** as the a baseline (or reference) model for comparison with your classifier model. The majority classifier model predicts the majority class for all data points. At the very least, you should healthily beat the majority class classifier, otherwise, the model is (usually) pointless.\n",
    "\n",
    "What is the majority class in the **train_data**?"
   ]
  },
  {
   "cell_type": "code",
   "execution_count": 173,
   "metadata": {
    "collapsed": false
   },
   "outputs": [
    {
     "name": "stdout",
     "output_type": "stream",
     "text": [
      "112078\n",
      "21295\n"
     ]
    }
   ],
   "source": [
    "num_positive  = (ptrain_data['sentiment'] == +1).sum()\n",
    "num_negative = (ptrain_data['sentiment'] == -1).sum()\n",
    "print num_positive\n",
    "print num_negative"
   ]
  },
  {
   "cell_type": "markdown",
   "metadata": {},
   "source": [
    "Positive sentiment is the majority class in the train_data"
   ]
  },
  {
   "cell_type": "markdown",
   "metadata": {},
   "source": [
    "Now compute the accuracy of the majority class classifier on **test_data**.\n",
    "\n",
    "**Quiz Question**: Enter the accuracy of the majority class classifier model on the **test_data**. Round your answer to two decimal places (e.g. 0.76)."
   ]
  },
  {
   "cell_type": "code",
   "execution_count": 174,
   "metadata": {
    "collapsed": false,
    "scrolled": true
   },
   "outputs": [
    {
     "name": "stdout",
     "output_type": "stream",
     "text": [
      "0.844273345517\n"
     ]
    }
   ],
   "source": [
    "print(ptest_data['sentiment'] == +1).sum() / len(ptest_data['sentiment'])"
   ]
  },
  {
   "cell_type": "markdown",
   "metadata": {},
   "source": [
    "**Quiz Question**: Is the **sentiment_model** definitely better than the majority class classifier (the baseline)?"
   ]
  }
 ],
 "metadata": {
  "kernelspec": {
   "display_name": "Python 2",
   "language": "python",
   "name": "python2"
  },
  "language_info": {
   "codemirror_mode": {
    "name": "ipython",
    "version": 2
   },
   "file_extension": ".py",
   "mimetype": "text/x-python",
   "name": "python",
   "nbconvert_exporter": "python",
   "pygments_lexer": "ipython2",
   "version": "2.7.11"
  }
 },
 "nbformat": 4,
 "nbformat_minor": 0
}
